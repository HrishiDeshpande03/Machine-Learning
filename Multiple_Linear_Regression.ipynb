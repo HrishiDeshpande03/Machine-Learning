{
  "nbformat": 4,
  "nbformat_minor": 0,
  "metadata": {
    "colab": {
      "name": "Multiple Linear Regression.ipynb",
      "provenance": [],
      "collapsed_sections": [],
      "toc_visible": true,
      "authorship_tag": "ABX9TyOeC/hjyU4HWfVKMXhqIXSk"
    },
    "kernelspec": {
      "name": "python3",
      "display_name": "Python 3"
    },
    "language_info": {
      "name": "python"
    }
  },
  "cells": [
    {
      "cell_type": "markdown",
      "metadata": {
        "id": "mB_5fNQm6CI9"
      },
      "source": [
        "#Importing the libraries"
      ]
    },
    {
      "cell_type": "code",
      "metadata": {
        "id": "-pdBiTaj6BYg"
      },
      "source": [
        "import pandas as pd\n",
        "import matplotlib.pyplot as plt\n",
        "import seaborn as sns\n",
        "import numpy as np\n",
        "from scipy import stats"
      ],
      "execution_count": 1,
      "outputs": []
    },
    {
      "cell_type": "markdown",
      "metadata": {
        "id": "Ff9oVFGB6O4Z"
      },
      "source": [
        "#Reading the data"
      ]
    },
    {
      "cell_type": "code",
      "metadata": {
        "id": "A6tk36ch6TfE"
      },
      "source": [
        "df = pd.read_csv('https://raw.githubusercontent.com/NetzwerkPriyanka8/ML_April/main/Projects/Linear_Regression/Advertising_data.csv')"
      ],
      "execution_count": 2,
      "outputs": []
    },
    {
      "cell_type": "markdown",
      "metadata": {
        "id": "eAUbO5Y96ZSa"
      },
      "source": [
        "#Displaying the first 5 rows of dataset"
      ]
    },
    {
      "cell_type": "code",
      "metadata": {
        "colab": {
          "base_uri": "https://localhost:8080/",
          "height": 203
        },
        "id": "HHVkH1gA6c4J",
        "outputId": "71d22a6d-3eba-43c9-dc4f-8d5380848991"
      },
      "source": [
        "df.head()"
      ],
      "execution_count": 3,
      "outputs": [
        {
          "output_type": "execute_result",
          "data": {
            "text/html": [
              "<div>\n",
              "<style scoped>\n",
              "    .dataframe tbody tr th:only-of-type {\n",
              "        vertical-align: middle;\n",
              "    }\n",
              "\n",
              "    .dataframe tbody tr th {\n",
              "        vertical-align: top;\n",
              "    }\n",
              "\n",
              "    .dataframe thead th {\n",
              "        text-align: right;\n",
              "    }\n",
              "</style>\n",
              "<table border=\"1\" class=\"dataframe\">\n",
              "  <thead>\n",
              "    <tr style=\"text-align: right;\">\n",
              "      <th></th>\n",
              "      <th>TV</th>\n",
              "      <th>radio</th>\n",
              "      <th>newspaper</th>\n",
              "      <th>sales</th>\n",
              "    </tr>\n",
              "  </thead>\n",
              "  <tbody>\n",
              "    <tr>\n",
              "      <th>0</th>\n",
              "      <td>230.1</td>\n",
              "      <td>37.8</td>\n",
              "      <td>69.2</td>\n",
              "      <td>2210</td>\n",
              "    </tr>\n",
              "    <tr>\n",
              "      <th>1</th>\n",
              "      <td>44.5</td>\n",
              "      <td>39.3</td>\n",
              "      <td>45.1</td>\n",
              "      <td>1040</td>\n",
              "    </tr>\n",
              "    <tr>\n",
              "      <th>2</th>\n",
              "      <td>17.2</td>\n",
              "      <td>45.9</td>\n",
              "      <td>69.3</td>\n",
              "      <td>930</td>\n",
              "    </tr>\n",
              "    <tr>\n",
              "      <th>3</th>\n",
              "      <td>151.5</td>\n",
              "      <td>41.3</td>\n",
              "      <td>58.5</td>\n",
              "      <td>1850</td>\n",
              "    </tr>\n",
              "    <tr>\n",
              "      <th>4</th>\n",
              "      <td>180.8</td>\n",
              "      <td>10.8</td>\n",
              "      <td>58.4</td>\n",
              "      <td>1290</td>\n",
              "    </tr>\n",
              "  </tbody>\n",
              "</table>\n",
              "</div>"
            ],
            "text/plain": [
              "      TV  radio  newspaper  sales\n",
              "0  230.1   37.8       69.2   2210\n",
              "1   44.5   39.3       45.1   1040\n",
              "2   17.2   45.9       69.3    930\n",
              "3  151.5   41.3       58.5   1850\n",
              "4  180.8   10.8       58.4   1290"
            ]
          },
          "metadata": {
            "tags": []
          },
          "execution_count": 3
        }
      ]
    },
    {
      "cell_type": "markdown",
      "metadata": {
        "id": "Sxhi0E2f6jot"
      },
      "source": [
        "#Displaying the last 5 rows of dataset"
      ]
    },
    {
      "cell_type": "code",
      "metadata": {
        "colab": {
          "base_uri": "https://localhost:8080/",
          "height": 203
        },
        "id": "_O_KZ5q06nb4",
        "outputId": "b2c794e2-5531-4571-8d55-3755c2682045"
      },
      "source": [
        "df.tail()"
      ],
      "execution_count": 4,
      "outputs": [
        {
          "output_type": "execute_result",
          "data": {
            "text/html": [
              "<div>\n",
              "<style scoped>\n",
              "    .dataframe tbody tr th:only-of-type {\n",
              "        vertical-align: middle;\n",
              "    }\n",
              "\n",
              "    .dataframe tbody tr th {\n",
              "        vertical-align: top;\n",
              "    }\n",
              "\n",
              "    .dataframe thead th {\n",
              "        text-align: right;\n",
              "    }\n",
              "</style>\n",
              "<table border=\"1\" class=\"dataframe\">\n",
              "  <thead>\n",
              "    <tr style=\"text-align: right;\">\n",
              "      <th></th>\n",
              "      <th>TV</th>\n",
              "      <th>radio</th>\n",
              "      <th>newspaper</th>\n",
              "      <th>sales</th>\n",
              "    </tr>\n",
              "  </thead>\n",
              "  <tbody>\n",
              "    <tr>\n",
              "      <th>195</th>\n",
              "      <td>38.2</td>\n",
              "      <td>3.7</td>\n",
              "      <td>13.8</td>\n",
              "      <td>760</td>\n",
              "    </tr>\n",
              "    <tr>\n",
              "      <th>196</th>\n",
              "      <td>94.2</td>\n",
              "      <td>4.9</td>\n",
              "      <td>8.1</td>\n",
              "      <td>970</td>\n",
              "    </tr>\n",
              "    <tr>\n",
              "      <th>197</th>\n",
              "      <td>177.0</td>\n",
              "      <td>9.3</td>\n",
              "      <td>6.4</td>\n",
              "      <td>1280</td>\n",
              "    </tr>\n",
              "    <tr>\n",
              "      <th>198</th>\n",
              "      <td>283.6</td>\n",
              "      <td>42.0</td>\n",
              "      <td>66.2</td>\n",
              "      <td>2550</td>\n",
              "    </tr>\n",
              "    <tr>\n",
              "      <th>199</th>\n",
              "      <td>232.1</td>\n",
              "      <td>8.6</td>\n",
              "      <td>8.7</td>\n",
              "      <td>1340</td>\n",
              "    </tr>\n",
              "  </tbody>\n",
              "</table>\n",
              "</div>"
            ],
            "text/plain": [
              "        TV  radio  newspaper  sales\n",
              "195   38.2    3.7       13.8    760\n",
              "196   94.2    4.9        8.1    970\n",
              "197  177.0    9.3        6.4   1280\n",
              "198  283.6   42.0       66.2   2550\n",
              "199  232.1    8.6        8.7   1340"
            ]
          },
          "metadata": {
            "tags": []
          },
          "execution_count": 4
        }
      ]
    },
    {
      "cell_type": "markdown",
      "metadata": {
        "id": "TktbUyy76wzn"
      },
      "source": [
        "#Initiating the variables\n"
      ]
    },
    {
      "cell_type": "code",
      "metadata": {
        "colab": {
          "base_uri": "https://localhost:8080/",
          "height": 417
        },
        "id": "eKZnENpd6y4-",
        "outputId": "8b541380-04d8-4953-e842-9e53ae91fed9"
      },
      "source": [
        "X = df.drop(['sales'], axis = 1)\n",
        "y = df['sales'].values.reshape(-1,1)\n",
        "X"
      ],
      "execution_count": 14,
      "outputs": [
        {
          "output_type": "execute_result",
          "data": {
            "text/html": [
              "<div>\n",
              "<style scoped>\n",
              "    .dataframe tbody tr th:only-of-type {\n",
              "        vertical-align: middle;\n",
              "    }\n",
              "\n",
              "    .dataframe tbody tr th {\n",
              "        vertical-align: top;\n",
              "    }\n",
              "\n",
              "    .dataframe thead th {\n",
              "        text-align: right;\n",
              "    }\n",
              "</style>\n",
              "<table border=\"1\" class=\"dataframe\">\n",
              "  <thead>\n",
              "    <tr style=\"text-align: right;\">\n",
              "      <th></th>\n",
              "      <th>TV</th>\n",
              "      <th>radio</th>\n",
              "      <th>newspaper</th>\n",
              "    </tr>\n",
              "  </thead>\n",
              "  <tbody>\n",
              "    <tr>\n",
              "      <th>0</th>\n",
              "      <td>230.1</td>\n",
              "      <td>37.8</td>\n",
              "      <td>69.2</td>\n",
              "    </tr>\n",
              "    <tr>\n",
              "      <th>1</th>\n",
              "      <td>44.5</td>\n",
              "      <td>39.3</td>\n",
              "      <td>45.1</td>\n",
              "    </tr>\n",
              "    <tr>\n",
              "      <th>2</th>\n",
              "      <td>17.2</td>\n",
              "      <td>45.9</td>\n",
              "      <td>69.3</td>\n",
              "    </tr>\n",
              "    <tr>\n",
              "      <th>3</th>\n",
              "      <td>151.5</td>\n",
              "      <td>41.3</td>\n",
              "      <td>58.5</td>\n",
              "    </tr>\n",
              "    <tr>\n",
              "      <th>4</th>\n",
              "      <td>180.8</td>\n",
              "      <td>10.8</td>\n",
              "      <td>58.4</td>\n",
              "    </tr>\n",
              "    <tr>\n",
              "      <th>...</th>\n",
              "      <td>...</td>\n",
              "      <td>...</td>\n",
              "      <td>...</td>\n",
              "    </tr>\n",
              "    <tr>\n",
              "      <th>195</th>\n",
              "      <td>38.2</td>\n",
              "      <td>3.7</td>\n",
              "      <td>13.8</td>\n",
              "    </tr>\n",
              "    <tr>\n",
              "      <th>196</th>\n",
              "      <td>94.2</td>\n",
              "      <td>4.9</td>\n",
              "      <td>8.1</td>\n",
              "    </tr>\n",
              "    <tr>\n",
              "      <th>197</th>\n",
              "      <td>177.0</td>\n",
              "      <td>9.3</td>\n",
              "      <td>6.4</td>\n",
              "    </tr>\n",
              "    <tr>\n",
              "      <th>198</th>\n",
              "      <td>283.6</td>\n",
              "      <td>42.0</td>\n",
              "      <td>66.2</td>\n",
              "    </tr>\n",
              "    <tr>\n",
              "      <th>199</th>\n",
              "      <td>232.1</td>\n",
              "      <td>8.6</td>\n",
              "      <td>8.7</td>\n",
              "    </tr>\n",
              "  </tbody>\n",
              "</table>\n",
              "<p>200 rows × 3 columns</p>\n",
              "</div>"
            ],
            "text/plain": [
              "        TV  radio  newspaper\n",
              "0    230.1   37.8       69.2\n",
              "1     44.5   39.3       45.1\n",
              "2     17.2   45.9       69.3\n",
              "3    151.5   41.3       58.5\n",
              "4    180.8   10.8       58.4\n",
              "..     ...    ...        ...\n",
              "195   38.2    3.7       13.8\n",
              "196   94.2    4.9        8.1\n",
              "197  177.0    9.3        6.4\n",
              "198  283.6   42.0       66.2\n",
              "199  232.1    8.6        8.7\n",
              "\n",
              "[200 rows x 3 columns]"
            ]
          },
          "metadata": {
            "tags": []
          },
          "execution_count": 14
        }
      ]
    },
    {
      "cell_type": "code",
      "metadata": {
        "colab": {
          "base_uri": "https://localhost:8080/"
        },
        "id": "_YXdG5aD8rb9",
        "outputId": "f014c954-a78e-48e5-ae12-c754d381b1fd"
      },
      "source": [
        "X = df.drop(['sales'], axis = 1)\n",
        "y = df['sales'].values.reshape(-1,1)\n",
        "y"
      ],
      "execution_count": 15,
      "outputs": [
        {
          "output_type": "execute_result",
          "data": {
            "text/plain": [
              "array([[2210],\n",
              "       [1040],\n",
              "       [ 930],\n",
              "       [1850],\n",
              "       [1290],\n",
              "       [ 720],\n",
              "       [1180],\n",
              "       [1320],\n",
              "       [ 480],\n",
              "       [1060],\n",
              "       [ 860],\n",
              "       [1740],\n",
              "       [ 920],\n",
              "       [ 970],\n",
              "       [1900],\n",
              "       [2240],\n",
              "       [1250],\n",
              "       [2440],\n",
              "       [1130],\n",
              "       [1460],\n",
              "       [1800],\n",
              "       [1250],\n",
              "       [ 560],\n",
              "       [1550],\n",
              "       [ 970],\n",
              "       [1200],\n",
              "       [1500],\n",
              "       [1590],\n",
              "       [1890],\n",
              "       [1050],\n",
              "       [2140],\n",
              "       [1190],\n",
              "       [ 960],\n",
              "       [1740],\n",
              "       [ 950],\n",
              "       [1280],\n",
              "       [2540],\n",
              "       [1470],\n",
              "       [1010],\n",
              "       [2150],\n",
              "       [1660],\n",
              "       [1710],\n",
              "       [2070],\n",
              "       [1290],\n",
              "       [ 850],\n",
              "       [1490],\n",
              "       [1060],\n",
              "       [2320],\n",
              "       [1480],\n",
              "       [ 970],\n",
              "       [1140],\n",
              "       [1070],\n",
              "       [2260],\n",
              "       [2120],\n",
              "       [2020],\n",
              "       [2370],\n",
              "       [ 550],\n",
              "       [1320],\n",
              "       [2380],\n",
              "       [1840],\n",
              "       [ 810],\n",
              "       [2420],\n",
              "       [1570],\n",
              "       [1400],\n",
              "       [1800],\n",
              "       [ 930],\n",
              "       [ 950],\n",
              "       [1340],\n",
              "       [1890],\n",
              "       [2230],\n",
              "       [1830],\n",
              "       [1240],\n",
              "       [ 880],\n",
              "       [1100],\n",
              "       [1700],\n",
              "       [ 870],\n",
              "       [ 690],\n",
              "       [1420],\n",
              "       [ 530],\n",
              "       [1100],\n",
              "       [1180],\n",
              "       [1230],\n",
              "       [1130],\n",
              "       [1360],\n",
              "       [2170],\n",
              "       [1520],\n",
              "       [1200],\n",
              "       [1600],\n",
              "       [1290],\n",
              "       [1670],\n",
              "       [1120],\n",
              "       [ 730],\n",
              "       [1940],\n",
              "       [2220],\n",
              "       [1150],\n",
              "       [1690],\n",
              "       [1170],\n",
              "       [1550],\n",
              "       [2540],\n",
              "       [1720],\n",
              "       [1170],\n",
              "       [2380],\n",
              "       [1480],\n",
              "       [1470],\n",
              "       [2070],\n",
              "       [1920],\n",
              "       [ 720],\n",
              "       [ 870],\n",
              "       [ 530],\n",
              "       [1980],\n",
              "       [1340],\n",
              "       [2180],\n",
              "       [1410],\n",
              "       [1590],\n",
              "       [1460],\n",
              "       [1260],\n",
              "       [1220],\n",
              "       [ 940],\n",
              "       [1590],\n",
              "       [ 660],\n",
              "       [1550],\n",
              "       [ 700],\n",
              "       [1160],\n",
              "       [1520],\n",
              "       [1970],\n",
              "       [1060],\n",
              "       [ 660],\n",
              "       [ 880],\n",
              "       [2470],\n",
              "       [ 970],\n",
              "       [ 160],\n",
              "       [1270],\n",
              "       [ 570],\n",
              "       [1960],\n",
              "       [1080],\n",
              "       [1160],\n",
              "       [ 950],\n",
              "       [2080],\n",
              "       [ 960],\n",
              "       [2070],\n",
              "       [1090],\n",
              "       [1920],\n",
              "       [2010],\n",
              "       [1040],\n",
              "       [1140],\n",
              "       [1030],\n",
              "       [1320],\n",
              "       [2540],\n",
              "       [1090],\n",
              "       [1010],\n",
              "       [1610],\n",
              "       [1160],\n",
              "       [1660],\n",
              "       [1900],\n",
              "       [1560],\n",
              "       [ 320],\n",
              "       [1530],\n",
              "       [1010],\n",
              "       [ 730],\n",
              "       [1290],\n",
              "       [1440],\n",
              "       [1330],\n",
              "       [1490],\n",
              "       [1800],\n",
              "       [1190],\n",
              "       [1190],\n",
              "       [ 800],\n",
              "       [1220],\n",
              "       [1710],\n",
              "       [1500],\n",
              "       [ 840],\n",
              "       [1450],\n",
              "       [ 760],\n",
              "       [1170],\n",
              "       [1150],\n",
              "       [2700],\n",
              "       [2020],\n",
              "       [1170],\n",
              "       [1180],\n",
              "       [1260],\n",
              "       [1050],\n",
              "       [1220],\n",
              "       [ 870],\n",
              "       [2620],\n",
              "       [1760],\n",
              "       [2260],\n",
              "       [1030],\n",
              "       [1730],\n",
              "       [1590],\n",
              "       [ 670],\n",
              "       [1080],\n",
              "       [ 990],\n",
              "       [ 590],\n",
              "       [1960],\n",
              "       [1730],\n",
              "       [ 760],\n",
              "       [ 970],\n",
              "       [1280],\n",
              "       [2550],\n",
              "       [1340]])"
            ]
          },
          "metadata": {
            "tags": []
          },
          "execution_count": 15
        }
      ]
    },
    {
      "cell_type": "markdown",
      "metadata": {
        "id": "77Cp4x6Y8wWU"
      },
      "source": [
        "#Splitting data into training, testing datase\n"
      ]
    },
    {
      "cell_type": "code",
      "metadata": {
        "id": "vkRE_wet84KO"
      },
      "source": [
        "from sklearn.model_selection import train_test_split\n",
        "X_train, X_test, y_train, y_test = train_test_split(X, y, test_size=0.2, random_state=42)"
      ],
      "execution_count": 16,
      "outputs": []
    },
    {
      "cell_type": "markdown",
      "metadata": {
        "id": "GmmP4Shn89hT"
      },
      "source": [
        "#Fitting Linear regression to our training set\n"
      ]
    },
    {
      "cell_type": "code",
      "metadata": {
        "colab": {
          "base_uri": "https://localhost:8080/"
        },
        "id": "VyaBgswt9EJ4",
        "outputId": "9500d17c-039c-4245-cab7-dad9f5fb35ca"
      },
      "source": [
        "from sklearn.linear_model import LinearRegression\n",
        "multiple_reg = LinearRegression()\n",
        "multiple_reg.fit(X_train, y_train)"
      ],
      "execution_count": 17,
      "outputs": [
        {
          "output_type": "execute_result",
          "data": {
            "text/plain": [
              "LinearRegression(copy_X=True, fit_intercept=True, n_jobs=None, normalize=False)"
            ]
          },
          "metadata": {
            "tags": []
          },
          "execution_count": 17
        }
      ]
    },
    {
      "cell_type": "markdown",
      "metadata": {
        "id": "9lefYpm_9SW6"
      },
      "source": [
        "#Predicting the test set result"
      ]
    },
    {
      "cell_type": "code",
      "metadata": {
        "id": "cJKBe93W9Udu"
      },
      "source": [
        "y_pred = multiple_reg.predict(X_test)"
      ],
      "execution_count": 23,
      "outputs": []
    },
    {
      "cell_type": "markdown",
      "metadata": {
        "id": "RzFvdXM9-Gm9"
      },
      "source": [
        "##Calculating the coefficients\n"
      ]
    },
    {
      "cell_type": "code",
      "metadata": {
        "colab": {
          "base_uri": "https://localhost:8080/"
        },
        "id": "UTHErcnK-JgD",
        "outputId": "c2d144f0-231e-4d55-bade-2135ca9e4d1f"
      },
      "source": [
        "multiple_reg.coef_"
      ],
      "execution_count": 24,
      "outputs": [
        {
          "output_type": "execute_result",
          "data": {
            "text/plain": [
              "array([[ 4.47295175, 18.91950542,  0.27611143]])"
            ]
          },
          "metadata": {
            "tags": []
          },
          "execution_count": 24
        }
      ]
    },
    {
      "cell_type": "markdown",
      "metadata": {
        "id": "3WKQOp3B-N_7"
      },
      "source": [
        "#Calculating the intercept"
      ]
    },
    {
      "cell_type": "code",
      "metadata": {
        "colab": {
          "base_uri": "https://localhost:8080/"
        },
        "id": "UgDNcgou-UYj",
        "outputId": "98c28697-076a-49a9-e614-58263b5d17f8"
      },
      "source": [
        "multiple_reg.intercept_"
      ],
      "execution_count": 26,
      "outputs": [
        {
          "output_type": "execute_result",
          "data": {
            "text/plain": [
              "array([297.90673381])"
            ]
          },
          "metadata": {
            "tags": []
          },
          "execution_count": 26
        }
      ]
    },
    {
      "cell_type": "markdown",
      "metadata": {
        "id": "fWXpyuT7-nti"
      },
      "source": [
        "#Calculating the R squared value\n"
      ]
    },
    {
      "cell_type": "code",
      "metadata": {
        "colab": {
          "base_uri": "https://localhost:8080/"
        },
        "id": "YayEfjnX-sDM",
        "outputId": "fbb03a27-b8ac-4d74-dd9e-c579d14578e7"
      },
      "source": [
        "from sklearn.metrics import r2_score\n",
        "r2_score(y_test, y_pred)"
      ],
      "execution_count": 27,
      "outputs": [
        {
          "output_type": "execute_result",
          "data": {
            "text/plain": [
              "0.899438024100912"
            ]
          },
          "metadata": {
            "tags": []
          },
          "execution_count": 27
        }
      ]
    },
    {
      "cell_type": "markdown",
      "metadata": {
        "id": "6zdZHvIc-yii"
      },
      "source": [
        "#Prediction for new values"
      ]
    },
    {
      "cell_type": "code",
      "metadata": {
        "colab": {
          "base_uri": "https://localhost:8080/"
        },
        "id": "UBccIZHI-6nK",
        "outputId": "704cc303-1a1b-41e9-ad87-dbf516cdc625"
      },
      "source": [
        "#Taking the input from the user\n",
        "print(\"Enter the ammount you will invest on:\")\n",
        "tv = float(input(\"TV : \"))\n",
        "radio = float(input(\"Radio : \"))\n",
        "newspaper = float(input(\"Newspaper : \"))\n",
        "\n",
        "#predicting the sales with respect to the inputs\n",
        "output = multiple_reg.predict([[tv,radio,newspaper]])\n",
        "print(\"you will get Rs{:.2f} sales by advertising Rs{} on TV, Rs{} on Radio and Rs{} on newspaper.\"\\\n",
        "      .format(output[0][0] if output else \"not predictable\",tv,radio,newspaper))"
      ],
      "execution_count": 28,
      "outputs": [
        {
          "output_type": "stream",
          "text": [
            "Enter the ammount you will invest on:\n",
            "TV : 500\n",
            "Radio : 200\n",
            "Newspaper : 10\n",
            "you will get Rs6321.04 sales by advertising Rs500.0 on TV, Rs200.0 on Radio and Rs10.0 on newspaper.\n"
          ],
          "name": "stdout"
        }
      ]
    },
    {
      "cell_type": "code",
      "metadata": {
        "colab": {
          "base_uri": "https://localhost:8080/"
        },
        "id": "y9PrQ9R7_Gwl",
        "outputId": "1bdf1fc2-047e-4c72-fb9d-199fa3299638"
      },
      "source": [
        "#Taking the input from the user\n",
        "print(\"Enter the ammount you will invest on:\")\n",
        "tv = float(input(\"TV : \"))\n",
        "radio = float(input(\"Radio : \"))\n",
        "newspaper = float(input(\"Newspaper : \"))\n",
        "\n",
        "#predicting the sales with respect to the inputs\n",
        "output = multiple_reg.predict([[tv,radio,newspaper]])\n",
        "print(\"you will get Rs{:.2f} sales by advertising Rs{} on TV, Rs{} on Radio and Rs{} on newspaper.\"\\\n",
        "      .format(output[0][0] if output else \"not predictable\",tv,radio,newspaper))"
      ],
      "execution_count": 29,
      "outputs": [
        {
          "output_type": "stream",
          "text": [
            "Enter the ammount you will invest on:\n",
            "TV : 1034.6\n",
            "Radio : 554.6\n",
            "Newspaper : 344.2\n",
            "you will get Rs15513.42 sales by advertising Rs1034.6 on TV, Rs554.6 on Radio and Rs344.2 on newspaper.\n"
          ],
          "name": "stdout"
        }
      ]
    }
  ]
}