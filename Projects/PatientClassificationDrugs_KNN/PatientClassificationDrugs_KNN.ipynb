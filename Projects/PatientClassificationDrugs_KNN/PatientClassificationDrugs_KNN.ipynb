{
  "nbformat": 4,
  "nbformat_minor": 0,
  "metadata": {
    "colab": {
      "name": "PatientClassificationDrugs_KNN.ipynb",
      "provenance": [],
      "collapsed_sections": []
    },
    "kernelspec": {
      "name": "python3",
      "display_name": "Python 3"
    },
    "language_info": {
      "name": "python"
    }
  },
  "cells": [
    {
      "cell_type": "markdown",
      "metadata": {
        "id": "QtpZ1Me3pyxk"
      },
      "source": [
        "#Importing Libraries"
      ]
    },
    {
      "cell_type": "code",
      "metadata": {
        "id": "gZFm5kKGcnZq"
      },
      "source": [
        "import numpy as np\n",
        "import pandas as pd\n",
        "import matplotlib.pyplot as plt\n",
        "import seaborn as sns"
      ],
      "execution_count": 2,
      "outputs": []
    },
    {
      "cell_type": "markdown",
      "metadata": {
        "id": "0SzKcxSZp28A"
      },
      "source": [
        "#Reading the dataset"
      ]
    },
    {
      "cell_type": "code",
      "metadata": {
        "colab": {
          "base_uri": "https://localhost:8080/",
          "height": 357
        },
        "id": "31Q3dzX2c1ZX",
        "outputId": "1c544711-f527-4a1b-b560-92b8dc7a27b8"
      },
      "source": [
        "df = pd.read_csv('/content/drug200.csv')\n",
        "df.head(10)"
      ],
      "execution_count": 4,
      "outputs": [
        {
          "output_type": "execute_result",
          "data": {
            "text/html": [
              "<div>\n",
              "<style scoped>\n",
              "    .dataframe tbody tr th:only-of-type {\n",
              "        vertical-align: middle;\n",
              "    }\n",
              "\n",
              "    .dataframe tbody tr th {\n",
              "        vertical-align: top;\n",
              "    }\n",
              "\n",
              "    .dataframe thead th {\n",
              "        text-align: right;\n",
              "    }\n",
              "</style>\n",
              "<table border=\"1\" class=\"dataframe\">\n",
              "  <thead>\n",
              "    <tr style=\"text-align: right;\">\n",
              "      <th></th>\n",
              "      <th>Age</th>\n",
              "      <th>Sex</th>\n",
              "      <th>BP</th>\n",
              "      <th>Cholesterol</th>\n",
              "      <th>Na_to_K</th>\n",
              "      <th>Drug</th>\n",
              "    </tr>\n",
              "  </thead>\n",
              "  <tbody>\n",
              "    <tr>\n",
              "      <th>0</th>\n",
              "      <td>23</td>\n",
              "      <td>F</td>\n",
              "      <td>HIGH</td>\n",
              "      <td>HIGH</td>\n",
              "      <td>25.355</td>\n",
              "      <td>DrugY</td>\n",
              "    </tr>\n",
              "    <tr>\n",
              "      <th>1</th>\n",
              "      <td>47</td>\n",
              "      <td>M</td>\n",
              "      <td>LOW</td>\n",
              "      <td>HIGH</td>\n",
              "      <td>13.093</td>\n",
              "      <td>drugC</td>\n",
              "    </tr>\n",
              "    <tr>\n",
              "      <th>2</th>\n",
              "      <td>47</td>\n",
              "      <td>M</td>\n",
              "      <td>LOW</td>\n",
              "      <td>HIGH</td>\n",
              "      <td>10.114</td>\n",
              "      <td>drugC</td>\n",
              "    </tr>\n",
              "    <tr>\n",
              "      <th>3</th>\n",
              "      <td>28</td>\n",
              "      <td>F</td>\n",
              "      <td>NORMAL</td>\n",
              "      <td>HIGH</td>\n",
              "      <td>7.798</td>\n",
              "      <td>drugX</td>\n",
              "    </tr>\n",
              "    <tr>\n",
              "      <th>4</th>\n",
              "      <td>61</td>\n",
              "      <td>F</td>\n",
              "      <td>LOW</td>\n",
              "      <td>HIGH</td>\n",
              "      <td>18.043</td>\n",
              "      <td>DrugY</td>\n",
              "    </tr>\n",
              "    <tr>\n",
              "      <th>5</th>\n",
              "      <td>22</td>\n",
              "      <td>F</td>\n",
              "      <td>NORMAL</td>\n",
              "      <td>HIGH</td>\n",
              "      <td>8.607</td>\n",
              "      <td>drugX</td>\n",
              "    </tr>\n",
              "    <tr>\n",
              "      <th>6</th>\n",
              "      <td>49</td>\n",
              "      <td>F</td>\n",
              "      <td>NORMAL</td>\n",
              "      <td>HIGH</td>\n",
              "      <td>16.275</td>\n",
              "      <td>DrugY</td>\n",
              "    </tr>\n",
              "    <tr>\n",
              "      <th>7</th>\n",
              "      <td>41</td>\n",
              "      <td>M</td>\n",
              "      <td>LOW</td>\n",
              "      <td>HIGH</td>\n",
              "      <td>11.037</td>\n",
              "      <td>drugC</td>\n",
              "    </tr>\n",
              "    <tr>\n",
              "      <th>8</th>\n",
              "      <td>60</td>\n",
              "      <td>M</td>\n",
              "      <td>NORMAL</td>\n",
              "      <td>HIGH</td>\n",
              "      <td>15.171</td>\n",
              "      <td>DrugY</td>\n",
              "    </tr>\n",
              "    <tr>\n",
              "      <th>9</th>\n",
              "      <td>43</td>\n",
              "      <td>M</td>\n",
              "      <td>LOW</td>\n",
              "      <td>NORMAL</td>\n",
              "      <td>19.368</td>\n",
              "      <td>DrugY</td>\n",
              "    </tr>\n",
              "  </tbody>\n",
              "</table>\n",
              "</div>"
            ],
            "text/plain": [
              "   Age Sex      BP Cholesterol  Na_to_K   Drug\n",
              "0   23   F    HIGH        HIGH   25.355  DrugY\n",
              "1   47   M     LOW        HIGH   13.093  drugC\n",
              "2   47   M     LOW        HIGH   10.114  drugC\n",
              "3   28   F  NORMAL        HIGH    7.798  drugX\n",
              "4   61   F     LOW        HIGH   18.043  DrugY\n",
              "5   22   F  NORMAL        HIGH    8.607  drugX\n",
              "6   49   F  NORMAL        HIGH   16.275  DrugY\n",
              "7   41   M     LOW        HIGH   11.037  drugC\n",
              "8   60   M  NORMAL        HIGH   15.171  DrugY\n",
              "9   43   M     LOW      NORMAL   19.368  DrugY"
            ]
          },
          "metadata": {
            "tags": []
          },
          "execution_count": 4
        }
      ]
    },
    {
      "cell_type": "markdown",
      "metadata": {
        "id": "DyQHum_FplmW"
      },
      "source": [
        "#Applying label encoding and one hot encoding\n",
        "#Feature engineering"
      ]
    },
    {
      "cell_type": "code",
      "metadata": {
        "id": "941DMliegDlY"
      },
      "source": [
        "from sklearn.preprocessing import LabelEncoder\n",
        "le = LabelEncoder()\n",
        "df['Drug'] = le.fit_transform(df['Drug'])"
      ],
      "execution_count": 11,
      "outputs": []
    },
    {
      "cell_type": "code",
      "metadata": {
        "id": "FTWlga6Gh1KP"
      },
      "source": [
        "from sklearn.preprocessing import LabelEncoder\n",
        "le = LabelEncoder()\n",
        "df['BP'] = le.fit_transform(df['BP'])"
      ],
      "execution_count": 17,
      "outputs": []
    },
    {
      "cell_type": "code",
      "metadata": {
        "id": "7-Q4z61gh9vO"
      },
      "source": [
        "from sklearn.preprocessing import LabelEncoder\n",
        "le = LabelEncoder()\n",
        "df['Cholesterol'] = le.fit_transform(df['Cholesterol'])"
      ],
      "execution_count": 18,
      "outputs": []
    },
    {
      "cell_type": "code",
      "metadata": {
        "id": "KSY-q4lujTba"
      },
      "source": [
        "from sklearn.preprocessing import OneHotEncoder\n",
        "enc = OneHotEncoder()\n",
        "# transforming the column after fitting\n",
        "enc = enc.fit_transform(df[['Sex']]).toarray()\n",
        "# converting arrays to a dataframe\n",
        "encoded_colm = pd.DataFrame(enc)\n",
        "# concating dataframes\n",
        "df = pd.concat([df, encoded_colm], axis = 1)\n",
        "# removing the encoded column.\n",
        "df = df.drop(['Sex'], axis = 1)\n",
        "df.head(10)"
      ],
      "execution_count": null,
      "outputs": []
    },
    {
      "cell_type": "code",
      "metadata": {
        "colab": {
          "base_uri": "https://localhost:8080/",
          "height": 357
        },
        "id": "k0culzoaiFj1",
        "outputId": "28e0f451-7181-4e05-f2c9-1a1e62862270"
      },
      "source": [
        "df.head(10)"
      ],
      "execution_count": 24,
      "outputs": [
        {
          "output_type": "execute_result",
          "data": {
            "text/html": [
              "<div>\n",
              "<style scoped>\n",
              "    .dataframe tbody tr th:only-of-type {\n",
              "        vertical-align: middle;\n",
              "    }\n",
              "\n",
              "    .dataframe tbody tr th {\n",
              "        vertical-align: top;\n",
              "    }\n",
              "\n",
              "    .dataframe thead th {\n",
              "        text-align: right;\n",
              "    }\n",
              "</style>\n",
              "<table border=\"1\" class=\"dataframe\">\n",
              "  <thead>\n",
              "    <tr style=\"text-align: right;\">\n",
              "      <th></th>\n",
              "      <th>Age</th>\n",
              "      <th>BP</th>\n",
              "      <th>Cholesterol</th>\n",
              "      <th>Na_to_K</th>\n",
              "      <th>Drug</th>\n",
              "      <th>0</th>\n",
              "      <th>1</th>\n",
              "    </tr>\n",
              "  </thead>\n",
              "  <tbody>\n",
              "    <tr>\n",
              "      <th>0</th>\n",
              "      <td>23</td>\n",
              "      <td>0</td>\n",
              "      <td>0</td>\n",
              "      <td>25.355</td>\n",
              "      <td>0</td>\n",
              "      <td>1.0</td>\n",
              "      <td>0.0</td>\n",
              "    </tr>\n",
              "    <tr>\n",
              "      <th>1</th>\n",
              "      <td>47</td>\n",
              "      <td>126</td>\n",
              "      <td>0</td>\n",
              "      <td>13.093</td>\n",
              "      <td>3</td>\n",
              "      <td>0.0</td>\n",
              "      <td>1.0</td>\n",
              "    </tr>\n",
              "    <tr>\n",
              "      <th>2</th>\n",
              "      <td>47</td>\n",
              "      <td>127</td>\n",
              "      <td>0</td>\n",
              "      <td>10.114</td>\n",
              "      <td>3</td>\n",
              "      <td>0.0</td>\n",
              "      <td>1.0</td>\n",
              "    </tr>\n",
              "    <tr>\n",
              "      <th>3</th>\n",
              "      <td>28</td>\n",
              "      <td>128</td>\n",
              "      <td>0</td>\n",
              "      <td>7.798</td>\n",
              "      <td>4</td>\n",
              "      <td>1.0</td>\n",
              "      <td>0.0</td>\n",
              "    </tr>\n",
              "    <tr>\n",
              "      <th>4</th>\n",
              "      <td>61</td>\n",
              "      <td>129</td>\n",
              "      <td>0</td>\n",
              "      <td>18.043</td>\n",
              "      <td>0</td>\n",
              "      <td>1.0</td>\n",
              "      <td>0.0</td>\n",
              "    </tr>\n",
              "    <tr>\n",
              "      <th>5</th>\n",
              "      <td>22</td>\n",
              "      <td>130</td>\n",
              "      <td>0</td>\n",
              "      <td>8.607</td>\n",
              "      <td>4</td>\n",
              "      <td>1.0</td>\n",
              "      <td>0.0</td>\n",
              "    </tr>\n",
              "    <tr>\n",
              "      <th>6</th>\n",
              "      <td>49</td>\n",
              "      <td>131</td>\n",
              "      <td>0</td>\n",
              "      <td>16.275</td>\n",
              "      <td>0</td>\n",
              "      <td>1.0</td>\n",
              "      <td>0.0</td>\n",
              "    </tr>\n",
              "    <tr>\n",
              "      <th>7</th>\n",
              "      <td>41</td>\n",
              "      <td>132</td>\n",
              "      <td>0</td>\n",
              "      <td>11.037</td>\n",
              "      <td>3</td>\n",
              "      <td>0.0</td>\n",
              "      <td>1.0</td>\n",
              "    </tr>\n",
              "    <tr>\n",
              "      <th>8</th>\n",
              "      <td>60</td>\n",
              "      <td>133</td>\n",
              "      <td>0</td>\n",
              "      <td>15.171</td>\n",
              "      <td>0</td>\n",
              "      <td>0.0</td>\n",
              "      <td>1.0</td>\n",
              "    </tr>\n",
              "    <tr>\n",
              "      <th>9</th>\n",
              "      <td>43</td>\n",
              "      <td>134</td>\n",
              "      <td>1</td>\n",
              "      <td>19.368</td>\n",
              "      <td>0</td>\n",
              "      <td>0.0</td>\n",
              "      <td>1.0</td>\n",
              "    </tr>\n",
              "  </tbody>\n",
              "</table>\n",
              "</div>"
            ],
            "text/plain": [
              "   Age   BP  Cholesterol  Na_to_K  Drug    0    1\n",
              "0   23    0            0   25.355     0  1.0  0.0\n",
              "1   47  126            0   13.093     3  0.0  1.0\n",
              "2   47  127            0   10.114     3  0.0  1.0\n",
              "3   28  128            0    7.798     4  1.0  0.0\n",
              "4   61  129            0   18.043     0  1.0  0.0\n",
              "5   22  130            0    8.607     4  1.0  0.0\n",
              "6   49  131            0   16.275     0  1.0  0.0\n",
              "7   41  132            0   11.037     3  0.0  1.0\n",
              "8   60  133            0   15.171     0  0.0  1.0\n",
              "9   43  134            1   19.368     0  0.0  1.0"
            ]
          },
          "metadata": {
            "tags": []
          },
          "execution_count": 24
        }
      ]
    },
    {
      "cell_type": "markdown",
      "metadata": {
        "id": "nGZ5kWLbpcz0"
      },
      "source": [
        "#Checking for null/missing values"
      ]
    },
    {
      "cell_type": "code",
      "metadata": {
        "colab": {
          "base_uri": "https://localhost:8080/"
        },
        "id": "njzCD3mJj1nK",
        "outputId": "8e94f7c4-2165-49f6-c6a6-158b51a6d554"
      },
      "source": [
        "df.info()"
      ],
      "execution_count": 29,
      "outputs": [
        {
          "output_type": "stream",
          "text": [
            "<class 'pandas.core.frame.DataFrame'>\n",
            "RangeIndex: 200 entries, 0 to 199\n",
            "Data columns (total 7 columns):\n",
            " #   Column       Non-Null Count  Dtype  \n",
            "---  ------       --------------  -----  \n",
            " 0   Age          200 non-null    int64  \n",
            " 1   BP           200 non-null    int64  \n",
            " 2   Cholesterol  200 non-null    int64  \n",
            " 3   Na_to_K      200 non-null    float64\n",
            " 4   Drug         200 non-null    int64  \n",
            " 5   0            200 non-null    float64\n",
            " 6   1            200 non-null    float64\n",
            "dtypes: float64(3), int64(4)\n",
            "memory usage: 11.1 KB\n"
          ],
          "name": "stdout"
        }
      ]
    },
    {
      "cell_type": "code",
      "metadata": {
        "colab": {
          "base_uri": "https://localhost:8080/"
        },
        "id": "0vEM8ZBbj4ZR",
        "outputId": "c434a40f-215a-4298-ff5d-957356032ac7"
      },
      "source": [
        "df.isnull().sum()"
      ],
      "execution_count": 30,
      "outputs": [
        {
          "output_type": "execute_result",
          "data": {
            "text/plain": [
              "Age            0\n",
              "BP             0\n",
              "Cholesterol    0\n",
              "Na_to_K        0\n",
              "Drug           0\n",
              "0              0\n",
              "1              0\n",
              "dtype: int64"
            ]
          },
          "metadata": {
            "tags": []
          },
          "execution_count": 30
        }
      ]
    },
    {
      "cell_type": "code",
      "metadata": {
        "colab": {
          "base_uri": "https://localhost:8080/",
          "height": 295
        },
        "id": "G4qOpVHwqMI_",
        "outputId": "3a4d2a5d-4c4d-4a1e-b8ec-2d9ef101bdfb"
      },
      "source": [
        "df.describe()"
      ],
      "execution_count": 45,
      "outputs": [
        {
          "output_type": "execute_result",
          "data": {
            "text/html": [
              "<div>\n",
              "<style scoped>\n",
              "    .dataframe tbody tr th:only-of-type {\n",
              "        vertical-align: middle;\n",
              "    }\n",
              "\n",
              "    .dataframe tbody tr th {\n",
              "        vertical-align: top;\n",
              "    }\n",
              "\n",
              "    .dataframe thead th {\n",
              "        text-align: right;\n",
              "    }\n",
              "</style>\n",
              "<table border=\"1\" class=\"dataframe\">\n",
              "  <thead>\n",
              "    <tr style=\"text-align: right;\">\n",
              "      <th></th>\n",
              "      <th>Age</th>\n",
              "      <th>BP</th>\n",
              "      <th>Cholesterol</th>\n",
              "      <th>Na_to_K</th>\n",
              "      <th>Drug</th>\n",
              "      <th>0</th>\n",
              "      <th>1</th>\n",
              "    </tr>\n",
              "  </thead>\n",
              "  <tbody>\n",
              "    <tr>\n",
              "      <th>count</th>\n",
              "      <td>200.000000</td>\n",
              "      <td>200.000000</td>\n",
              "      <td>200.000000</td>\n",
              "      <td>200.000000</td>\n",
              "      <td>200.000000</td>\n",
              "      <td>200.000000</td>\n",
              "      <td>200.000000</td>\n",
              "    </tr>\n",
              "    <tr>\n",
              "      <th>mean</th>\n",
              "      <td>44.315000</td>\n",
              "      <td>99.500000</td>\n",
              "      <td>0.485000</td>\n",
              "      <td>16.084485</td>\n",
              "      <td>1.595000</td>\n",
              "      <td>0.480000</td>\n",
              "      <td>0.520000</td>\n",
              "    </tr>\n",
              "    <tr>\n",
              "      <th>std</th>\n",
              "      <td>16.544315</td>\n",
              "      <td>57.879185</td>\n",
              "      <td>0.501029</td>\n",
              "      <td>7.223956</td>\n",
              "      <td>1.716305</td>\n",
              "      <td>0.500854</td>\n",
              "      <td>0.500854</td>\n",
              "    </tr>\n",
              "    <tr>\n",
              "      <th>min</th>\n",
              "      <td>15.000000</td>\n",
              "      <td>0.000000</td>\n",
              "      <td>0.000000</td>\n",
              "      <td>6.269000</td>\n",
              "      <td>0.000000</td>\n",
              "      <td>0.000000</td>\n",
              "      <td>0.000000</td>\n",
              "    </tr>\n",
              "    <tr>\n",
              "      <th>25%</th>\n",
              "      <td>31.000000</td>\n",
              "      <td>49.750000</td>\n",
              "      <td>0.000000</td>\n",
              "      <td>10.445500</td>\n",
              "      <td>0.000000</td>\n",
              "      <td>0.000000</td>\n",
              "      <td>0.000000</td>\n",
              "    </tr>\n",
              "    <tr>\n",
              "      <th>50%</th>\n",
              "      <td>45.000000</td>\n",
              "      <td>99.500000</td>\n",
              "      <td>0.000000</td>\n",
              "      <td>13.936500</td>\n",
              "      <td>1.000000</td>\n",
              "      <td>0.000000</td>\n",
              "      <td>1.000000</td>\n",
              "    </tr>\n",
              "    <tr>\n",
              "      <th>75%</th>\n",
              "      <td>58.000000</td>\n",
              "      <td>149.250000</td>\n",
              "      <td>1.000000</td>\n",
              "      <td>19.380000</td>\n",
              "      <td>4.000000</td>\n",
              "      <td>1.000000</td>\n",
              "      <td>1.000000</td>\n",
              "    </tr>\n",
              "    <tr>\n",
              "      <th>max</th>\n",
              "      <td>74.000000</td>\n",
              "      <td>199.000000</td>\n",
              "      <td>1.000000</td>\n",
              "      <td>38.247000</td>\n",
              "      <td>4.000000</td>\n",
              "      <td>1.000000</td>\n",
              "      <td>1.000000</td>\n",
              "    </tr>\n",
              "  </tbody>\n",
              "</table>\n",
              "</div>"
            ],
            "text/plain": [
              "              Age          BP  Cholesterol  ...        Drug           0           1\n",
              "count  200.000000  200.000000   200.000000  ...  200.000000  200.000000  200.000000\n",
              "mean    44.315000   99.500000     0.485000  ...    1.595000    0.480000    0.520000\n",
              "std     16.544315   57.879185     0.501029  ...    1.716305    0.500854    0.500854\n",
              "min     15.000000    0.000000     0.000000  ...    0.000000    0.000000    0.000000\n",
              "25%     31.000000   49.750000     0.000000  ...    0.000000    0.000000    0.000000\n",
              "50%     45.000000   99.500000     0.000000  ...    1.000000    0.000000    1.000000\n",
              "75%     58.000000  149.250000     1.000000  ...    4.000000    1.000000    1.000000\n",
              "max     74.000000  199.000000     1.000000  ...    4.000000    1.000000    1.000000\n",
              "\n",
              "[8 rows x 7 columns]"
            ]
          },
          "metadata": {
            "tags": []
          },
          "execution_count": 45
        }
      ]
    },
    {
      "cell_type": "code",
      "metadata": {
        "colab": {
          "base_uri": "https://localhost:8080/",
          "height": 296
        },
        "id": "c4rX50zUqUni",
        "outputId": "b491ef98-d53d-4a36-ce68-876b7c598afb"
      },
      "source": [
        "sns.boxplot(x='Age', y='Drug', data=df)"
      ],
      "execution_count": 46,
      "outputs": [
        {
          "output_type": "execute_result",
          "data": {
            "text/plain": [
              "<matplotlib.axes._subplots.AxesSubplot at 0x7fcd35e11690>"
            ]
          },
          "metadata": {
            "tags": []
          },
          "execution_count": 46
        },
        {
          "output_type": "display_data",
          "data": {
            "image/png": "[encoded data removed]",
            "text/plain": [
              "<Figure size 432x288 with 1 Axes>"
            ]
          },
          "metadata": {
            "tags": [],
            "needs_background": "light"
          }
        }
      ]
    },
    {
      "cell_type": "code",
      "metadata": {
        "colab": {
          "base_uri": "https://localhost:8080/",
          "height": 279
        },
        "id": "UbGaIlOfqvZ3",
        "outputId": "c2f8f818-9c28-4401-ec91-d84488a9cf38"
      },
      "source": [
        "plt.scatter(df['Age'],df['Drug'])\n",
        "plt.xlabel('Age')\n",
        "plt.ylabel('Drug')\n",
        "plt.show()"
      ],
      "execution_count": 47,
      "outputs": [
        {
          "output_type": "display_data",
          "data": {
            "image/png": "[encoded data removed]",
            "text/plain": [
              "<Figure size 432x288 with 1 Axes>"
            ]
          },
          "metadata": {
            "tags": [],
            "needs_background": "light"
          }
        }
      ]
    },
    {
      "cell_type": "code",
      "metadata": {
        "colab": {
          "base_uri": "https://localhost:8080/",
          "height": 316
        },
        "id": "soMZbUPbq6rW",
        "outputId": "7d43c909-f341-4b8d-ed2a-459f1f080824"
      },
      "source": [
        "correlation_matrix = df.corr()\n",
        "sns.heatmap(correlation_matrix, annot=True)\n",
        "sns.heatmap(correlation_matrix, )\n",
        "plt.show()"
      ],
      "execution_count": 48,
      "outputs": [
        {
          "output_type": "display_data",
          "data": {
            "image/png": "[encoded data removed]",
            "text/plain": [
              "<Figure size 432x288 with 3 Axes>"
            ]
          },
          "metadata": {
            "tags": [],
            "needs_background": "light"
          }
        }
      ]
    },
    {
      "cell_type": "markdown",
      "metadata": {
        "id": "vZM4xmM8pYoN"
      },
      "source": [
        "#Initiating the variables"
      ]
    },
    {
      "cell_type": "code",
      "metadata": {
        "id": "BYV70KnNjdce"
      },
      "source": [
        "X = df.iloc[:, :-1].values\n",
        "y = df.iloc[:, -1].values"
      ],
      "execution_count": 26,
      "outputs": []
    },
    {
      "cell_type": "markdown",
      "metadata": {
        "id": "bZaGlauNpScE"
      },
      "source": [
        "#splitting data into training and testing"
      ]
    },
    {
      "cell_type": "code",
      "metadata": {
        "id": "3LRlcfxTjoMq"
      },
      "source": [
        "from sklearn.model_selection import train_test_split\n",
        "X_train, X_test, y_train, y_test = train_test_split(X, y, test_size=0.2, random_state=42)"
      ],
      "execution_count": 27,
      "outputs": []
    },
    {
      "cell_type": "markdown",
      "metadata": {
        "id": "67u_PnU9pOwm"
      },
      "source": [
        "#Feature Scaling"
      ]
    },
    {
      "cell_type": "code",
      "metadata": {
        "id": "Jfwy6_6djwXt"
      },
      "source": [
        "from sklearn.preprocessing import StandardScaler\n",
        "sc = StandardScaler()\n",
        "X_train = sc.fit_transform(X_train)\n",
        "X_test = sc.transform(X_test)"
      ],
      "execution_count": 31,
      "outputs": []
    },
    {
      "cell_type": "code",
      "metadata": {
        "colab": {
          "base_uri": "https://localhost:8080/"
        },
        "id": "Kov4mM3Wj_pi",
        "outputId": "474cd589-3bdd-4a50-d96f-85cc99b2a321"
      },
      "source": [
        "X_train"
      ],
      "execution_count": 32,
      "outputs": [
        {
          "output_type": "execute_result",
          "data": {
            "text/plain": [
              "array([[-0.83405574,  1.00192457,  1.1055416 , -0.74045911,  1.42704996,\n",
              "         1.03823026],\n",
              "       [ 0.41196591, -0.46338034, -0.90453403, -0.87126694,  1.42704996,\n",
              "        -0.96317747],\n",
              "       [-0.39794817,  0.28714169,  1.1055416 , -0.89684776,  1.42704996,\n",
              "         1.03823026],\n",
              "       [-0.77175466,  0.48370698, -0.90453403,  2.39090899, -0.90282753,\n",
              "         1.03823026],\n",
              "       [-0.70945358, -0.91011964, -0.90453403,  0.86573941, -0.90282753,\n",
              "        -0.96317747],\n",
              "       [ 0.66117024, -0.49911948, -0.90453403, -0.63993343,  0.84458059,\n",
              "         1.03823026],\n",
              "       [-0.02414167,  0.12631554, -0.90453403,  0.24281204, -0.90282753,\n",
              "        -0.96317747],\n",
              "       [-0.83405574,  0.84109842,  1.1055416 ,  1.35218969, -0.90282753,\n",
              "         1.03823026],\n",
              "       [ 1.78258973, -1.42833723,  1.1055416 , -0.10494874, -0.90282753,\n",
              "        -0.96317747],\n",
              "       [ 0.34966483,  1.12701157, -0.90453403, -0.35923585,  1.42704996,\n",
              "         1.03823026],\n",
              "       [-1.58166873, -1.05307622,  1.1055416 , -0.95602932,  1.42704996,\n",
              "         1.03823026],\n",
              "       [-0.273346  , -0.39190205,  1.1055416 ,  0.35177248, -0.90282753,\n",
              "         1.03823026],\n",
              "       [-1.45706657,  0.59092441, -0.90453403, -1.04922644,  1.42704996,\n",
              "         1.03823026],\n",
              "       [ 1.28418107, -1.33898937, -0.90453403,  0.02101948, -0.90282753,\n",
              "        -0.96317747],\n",
              "       [-0.33564708, -0.9994675 , -0.90453403, -0.84236754,  1.42704996,\n",
              "         1.03823026],\n",
              "       [-0.273346  ,  1.39505515,  1.1055416 ,  0.92782474, -0.90282753,\n",
              "         1.03823026],\n",
              "       [ 0.22506266, -1.48194595,  1.1055416 , -1.37251261, -0.32035815,\n",
              "        -0.96317747],\n",
              "       [-1.58166873,  0.05483725,  1.1055416 ,  2.68861434, -0.90282753,\n",
              "        -0.96317747],\n",
              "       [-0.39794817, -0.01664104,  1.1055416 ,  0.14242463, -0.90282753,\n",
              "         1.03823026],\n",
              "       [ 0.7857724 ,  1.30570729, -0.90453403,  3.04923467, -0.90282753,\n",
              "         1.03823026],\n",
              "       [-1.58166873, -0.07024976, -0.90453403, -0.6821072 , -0.32035815,\n",
              "         1.03823026],\n",
              "       [ 0.66117024,  1.32357686, -0.90453403,  1.27212866, -0.90282753,\n",
              "         1.03823026],\n",
              "       [ 1.78258973,  0.16205468, -0.90453403, -0.91648276,  0.26211122,\n",
              "        -0.96317747],\n",
              "       [-0.14874383,  0.71601142, -0.90453403, -0.11324522, -0.90282753,\n",
              "        -0.96317747],\n",
              "       [ 0.03815941,  0.23353297,  1.1055416 , -1.23202555,  1.42704996,\n",
              "        -0.96317747],\n",
              "       [ 0.97267565, -0.96372836, -0.90453403,  1.28319063, -0.90282753,\n",
              "         1.03823026],\n",
              "       [ 0.28736374,  0.35861997,  1.1055416 , -0.05599951, -0.90282753,\n",
              "        -0.96317747],\n",
              "       [ 1.1595789 , -0.60633692,  1.1055416 ,  0.65500882, -0.90282753,\n",
              "        -0.96317747],\n",
              "       [ 1.03497673,  1.19848986, -0.90453403,  0.05517332, -0.90282753,\n",
              "        -0.96317747],\n",
              "       [ 0.59886916, -1.55342424, -0.90453403, -0.72151548,  0.26211122,\n",
              "         1.03823026],\n",
              "       [ 1.34648215,  1.41292473,  1.1055416 , -0.73243918,  1.42704996,\n",
              "        -0.96317747],\n",
              "       [-0.6471525 , -1.71425038,  1.1055416 , -1.15459174,  1.42704996,\n",
              "        -0.96317747],\n",
              "       [-0.14874383, -0.19533676,  1.1055416 , -0.46128256,  1.42704996,\n",
              "        -0.96317747],\n",
              "       [ 0.7857724 ,  0.3407504 ,  1.1055416 , -0.27046352,  0.26211122,\n",
              "         1.03823026],\n",
              "       [-0.83405574, -0.98159793,  1.1055416 , -0.81623363, -0.32035815,\n",
              "         1.03823026],\n",
              "       [ 1.22187998, -1.07094579,  1.1055416 , -0.33545261,  1.42704996,\n",
              "         1.03823026],\n",
              "       [-0.89635683,  0.07270682, -0.90453403,  1.95949203, -0.90282753,\n",
              "        -0.96317747],\n",
              "       [ 1.47108431, -1.49981552, -0.90453403, -0.84762198,  1.42704996,\n",
              "         1.03823026],\n",
              "       [-0.89635683,  0.01909811,  1.1055416 , -0.59789793, -0.32035815,\n",
              "        -0.96317747],\n",
              "       [ 0.1004605 , -1.10668493,  1.1055416 , -1.3152669 ,  1.42704996,\n",
              "         1.03823026],\n",
              "       [ 0.1004605 ,  0.53731569, -0.90453403, -0.84084652,  0.84458059,\n",
              "        -0.96317747],\n",
              "       [-1.20786224,  0.96618542,  1.1055416 ,  0.41012439, -0.90282753,\n",
              "         1.03823026],\n",
              "       [-0.52255033,  0.43009826, -0.90453403, -0.42920284, -0.32035815,\n",
              "         1.03823026],\n",
              "       [ 0.1004605 , -0.64207606, -0.90453403, -0.80088514, -0.32035815,\n",
              "        -0.96317747],\n",
              "       [-1.39476549, -0.57059777, -0.90453403, -1.13163814, -0.32035815,\n",
              "        -0.96317747],\n",
              "       [ 0.84807349,  1.109142  , -0.90453403, -0.31249902,  0.26211122,\n",
              "        -0.96317747],\n",
              "       [ 0.72347132, -0.21320633,  1.1055416 , -0.86421494,  0.26211122,\n",
              "         1.03823026],\n",
              "       [-0.83405574,  0.25140254,  1.1055416 , -0.93335227, -0.32035815,\n",
              "        -0.96317747],\n",
              "       [ 0.7857724 , -0.58846734, -0.90453403,  0.3866177 , -0.90282753,\n",
              "        -0.96317747],\n",
              "       [-1.3324644 ,  1.60949002,  1.1055416 , -0.92920403, -0.32035815,\n",
              "        -0.96317747],\n",
              "       [ 0.1004605 ,  0.50157655,  1.1055416 ,  1.98742351, -0.90282753,\n",
              "        -0.96317747],\n",
              "       [ 1.1595789 , -1.46407638,  1.1055416 ,  1.31997169, -0.90282753,\n",
              "         1.03823026],\n",
              "       [-0.02414167, -0.8743805 , -0.90453403, -0.46197393, -0.32035815,\n",
              "         1.03823026],\n",
              "       [ 1.22187998,  0.19779383,  1.1055416 ,  2.16828677, -0.90282753,\n",
              "         1.03823026],\n",
              "       [-0.70945358,  0.69814184,  1.1055416 ,  0.41537883, -0.90282753,\n",
              "         1.03823026],\n",
              "       [ 0.03815941, -0.51698906, -0.90453403,  2.55683859, -0.90282753,\n",
              "         1.03823026],\n",
              "       [-0.70945358, -0.24894548,  1.1055416 , -0.45243298,  1.42704996,\n",
              "         1.03823026],\n",
              "       [ 0.22506266,  0.60879398, -0.90453403,  0.0110637 , -0.90282753,\n",
              "         1.03823026],\n",
              "       [ 0.22506266,  0.09057639,  1.1055416 , -0.94220185,  1.42704996,\n",
              "         1.03823026],\n",
              "       [-1.08326007, -0.94585879, -0.90453403,  1.50290908, -0.90282753,\n",
              "        -0.96317747],\n",
              "       [ 0.97267565,  0.57305484, -0.90453403,  0.25553331, -0.90282753,\n",
              "         1.03823026],\n",
              "       [ 0.22506266,  0.17992425,  1.1055416 , -0.71639932,  1.42704996,\n",
              "        -0.96317747],\n",
              "       [ 0.91037457, -1.4462068 ,  1.1055416 , -1.0472906 ,  0.26211122,\n",
              "        -0.96317747],\n",
              "       [ 0.97267565, -1.39259809, -0.90453403, -0.93362882,  1.42704996,\n",
              "        -0.96317747],\n",
              "       [-1.39476549, -1.14242408, -0.90453403,  0.09057163, -0.90282753,\n",
              "        -0.96317747],\n",
              "       [-0.39794817, -1.41046766, -0.90453403, -0.90307012, -0.32035815,\n",
              "        -0.96317747],\n",
              "       [ 0.1004605 ,  0.68027227, -0.90453403, -0.61227849,  0.84458059,\n",
              "         1.03823026],\n",
              "       [ 1.34648215,  1.80605531,  1.1055416 ,  0.62196118, -0.90282753,\n",
              "        -0.96317747],\n",
              "       [-0.6471525 , -1.08881536,  1.1055416 , -0.9713778 ,  1.42704996,\n",
              "        -0.96317747],\n",
              "       [-0.52255033, -1.37472851,  1.1055416 , -0.57923085,  1.42704996,\n",
              "         1.03823026],\n",
              "       [ 0.7857724 , -0.12385847, -0.90453403,  1.44497199, -0.90282753,\n",
              "         1.03823026],\n",
              "       [-1.39476549, -1.73211996, -0.90453403,  1.26659767, -0.90282753,\n",
              "         1.03823026],\n",
              "       [-1.39476549,  1.59162045,  1.1055416 , -0.30074567,  1.42704996,\n",
              "        -0.96317747],\n",
              "       [ 1.65798756, -0.35616291,  1.1055416 , -0.21473883,  1.42704996,\n",
              "         1.03823026],\n",
              "       [ 1.5333854 ,  1.75244659, -0.90453403, -0.30807423,  0.26211122,\n",
              "        -0.96317747],\n",
              "       [-0.58485141, -1.28538065, -0.90453403,  0.07715899, -0.90282753,\n",
              "         1.03823026],\n",
              "       [ 0.91037457,  1.64522916, -0.90453403, -0.39988861,  0.26211122,\n",
              "         1.03823026],\n",
              "       [ 0.28736374,  0.39435912,  1.1055416 , -0.53926947,  1.42704996,\n",
              "         1.03823026],\n",
              "       [-1.51936765, -0.17746719,  1.1055416 ,  1.71972375, -0.90282753,\n",
              "         1.03823026],\n",
              "       [-0.39794817,  0.10844597,  1.1055416 ,  0.89906361, -0.90282753,\n",
              "         1.03823026],\n",
              "       [ 1.72028864,  0.32288083, -0.90453403,  0.41842087, -0.90282753,\n",
              "         1.03823026],\n",
              "       [ 1.65798756, -1.16029365,  1.1055416 , -0.90127255,  0.26211122,\n",
              "        -0.96317747],\n",
              "       [ 0.22506266, -0.32042376, -0.90453403, -0.78235633,  0.84458059,\n",
              "        -0.96317747],\n",
              "       [-0.89635683, -0.30255419,  1.1055416 , -0.68694681, -0.32035815,\n",
              "        -0.96317747],\n",
              "       [-1.08326007,  0.44796783,  1.1055416 ,  0.36145171, -0.90282753,\n",
              "         1.03823026],\n",
              "       [ 0.16276158,  0.89470714, -0.90453403, -0.16025861, -0.90282753,\n",
              "         1.03823026],\n",
              "       [-1.7062709 , -0.69568478, -0.90453403,  2.9028018 , -0.90282753,\n",
              "         1.03823026],\n",
              "       [-1.20786224, -1.35685894,  1.1055416 , -0.53761017, -0.32035815,\n",
              "         1.03823026],\n",
              "       [ 1.1595789 ,  1.03766371, -0.90453403, -1.16620681,  1.42704996,\n",
              "        -0.96317747],\n",
              "       [-1.89317415,  0.30501126, -0.90453403, -0.98326942,  1.42704996,\n",
              "        -0.96317747],\n",
              "       [ 0.34966483, -0.08811933,  1.1055416 ,  0.94137566, -0.90282753,\n",
              "         1.03823026],\n",
              "       [ 1.40878323,  0.46583741, -0.90453403, -0.8163719 ,  0.84458059,\n",
              "        -0.96317747],\n",
              "       [ 0.66117024,  1.26996815, -0.90453403, -0.16316238, -0.90282753,\n",
              "        -0.96317747],\n",
              "       [-0.52255033, -0.33829334,  1.1055416 ,  0.07314903, -0.90282753,\n",
              "        -0.96317747],\n",
              "       [-1.39476549,  0.37648955, -0.90453403, -0.54410908,  1.42704996,\n",
              "        -0.96317747],\n",
              "       [ 0.34966483, -1.51768509,  1.1055416 , -0.67090695,  0.26211122,\n",
              "        -0.96317747],\n",
              "       [-1.08326007,  0.55518527, -0.90453403, -1.16109065,  1.42704996,\n",
              "         1.03823026],\n",
              "       [-0.52255033, -1.21390237,  1.1055416 , -0.99930929,  1.42704996,\n",
              "        -0.96317747],\n",
              "       [-1.3324644 ,  1.44866387,  1.1055416 ,  0.31277902, -0.90282753,\n",
              "         1.03823026],\n",
              "       [-1.3324644 , -1.60703295, -0.90453403,  1.32619405, -0.90282753,\n",
              "        -0.96317747],\n",
              "       [-1.45706657, -0.76716307,  1.1055416 ,  0.91579484, -0.90282753,\n",
              "         1.03823026],\n",
              "       [-0.39794817, -0.80290221, -0.90453403, -0.03124835, -0.90282753,\n",
              "        -0.96317747],\n",
              "       [ 0.72347132, -0.6778152 ,  1.1055416 ,  1.34098944, -0.90282753,\n",
              "         1.03823026],\n",
              "       [-1.08326007,  0.93044628, -0.90453403,  0.4979288 , -0.90282753,\n",
              "         1.03823026],\n",
              "       [ 0.91037457,  1.01979414, -0.90453403, -0.31263729,  0.26211122,\n",
              "        -0.96317747],\n",
              "       [ 0.47426699,  0.2156634 , -0.90453403, -0.28512063,  1.42704996,\n",
              "        -0.96317747],\n",
              "       [-0.273346  ,  0.62666355, -0.90453403, -0.713219  ,  0.84458059,\n",
              "        -0.96317747],\n",
              "       [ 0.28736374, -1.12455451, -0.90453403, -1.20367924, -0.32035815,\n",
              "        -0.96317747],\n",
              "       [-0.273346  ,  1.21635943,  1.1055416 , -0.14366565, -0.90282753,\n",
              "        -0.96317747],\n",
              "       [-0.46024925,  1.07340286,  1.1055416 , -0.67325762, -0.32035815,\n",
              "         1.03823026],\n",
              "       [ 0.16276158, -0.44551077,  1.1055416 , -0.79493933, -0.32035815,\n",
              "        -0.96317747],\n",
              "       [ 0.84807349, -0.74929349, -0.90453403, -0.31955103,  1.42704996,\n",
              "         1.03823026],\n",
              "       [ 0.28736374,  1.18062029,  1.1055416 ,  0.14048879, -0.90282753,\n",
              "         1.03823026],\n",
              "       [ 0.91037457,  0.64453313, -0.90453403, -0.14159153, -0.90282753,\n",
              "        -0.96317747],\n",
              "       [ 1.78258973,  0.73388099, -0.90453403,  0.65639157, -0.90282753,\n",
              "         1.03823026],\n",
              "       [-0.70945358,  1.5558813 , -0.90453403,  0.34679459, -0.90282753,\n",
              "        -0.96317747],\n",
              "       [-0.02414167, -0.03451061,  1.1055416 , -0.85425916,  1.42704996,\n",
              "        -0.96317747],\n",
              "       [ 0.41196591, -1.6427721 ,  1.1055416 ,  2.31292207, -0.90282753,\n",
              "        -0.96317747],\n",
              "       [-0.14874383,  0.80535928, -0.90453403, -0.30738286, -0.32035815,\n",
              "        -0.96317747],\n",
              "       [-1.3324644 ,  1.78818574, -0.90453403, -0.77295366,  1.42704996,\n",
              "         1.03823026],\n",
              "       [ 1.72028864, -0.40977162, -0.90453403,  0.29770709, -0.90282753,\n",
              "         1.03823026],\n",
              "       [-0.21104492, -1.58916338, -0.90453403,  0.66938939, -0.90282753,\n",
              "         1.03823026],\n",
              "       [ 0.72347132, -0.1059889 , -0.90453403, -0.27364384,  1.42704996,\n",
              "         1.03823026],\n",
              "       [-0.58485141, -0.71355435,  1.1055416 , -0.09748191, -0.90282753,\n",
              "         1.03823026],\n",
              "       [-0.02414167,  1.62735959,  1.1055416 , -1.08199754,  1.42704996,\n",
              "        -0.96317747],\n",
              "       [ 1.40878323,  1.46653344,  1.1055416 , -0.83047592,  0.26211122,\n",
              "         1.03823026],\n",
              "       [-0.21104492, -1.17816322, -0.90453403,  0.5279344 , -0.90282753,\n",
              "        -0.96317747],\n",
              "       [ 0.7857724 ,  0.94831585, -0.90453403,  0.44538443, -0.90282753,\n",
              "         1.03823026],\n",
              "       [-1.83087307, -0.48124991, -0.90453403, -0.57923085,  0.84458059,\n",
              "        -0.96317747],\n",
              "       [ 0.91037457,  1.53801173,  1.1055416 , -0.84402684,  1.42704996,\n",
              "        -0.96317747],\n",
              "       [-1.39476549,  0.91257671, -0.90453403,  2.14201459, -0.90282753,\n",
              "        -0.96317747],\n",
              "       [-0.52255033,  1.16275072,  1.1055416 ,  0.95354383, -0.90282753,\n",
              "         1.03823026],\n",
              "       [ 1.09727782,  0.87683756, -0.90453403,  1.34430804, -0.90282753,\n",
              "        -0.96317747],\n",
              "       [-0.33564708,  1.52014216, -0.90453403,  1.60827437, -0.90282753,\n",
              "        -0.96317747],\n",
              "       [-0.95865791, -0.2310759 , -0.90453403, -0.79535415,  1.42704996,\n",
              "         1.03823026],\n",
              "       [ 1.65798756, -0.5527282 , -0.90453403,  0.01590332, -0.90282753,\n",
              "        -0.96317747],\n",
              "       [-0.83405574, -1.67851124, -0.90453403, -1.20547681,  1.42704996,\n",
              "         1.03823026],\n",
              "       [-0.39794817,  0.26927211,  1.1055416 , -0.31208419,  1.42704996,\n",
              "        -0.96317747],\n",
              "       [ 0.47426699, -0.28468462, -0.90453403,  0.93584467, -0.90282753,\n",
              "        -0.96317747],\n",
              "       [ 1.65798756, -0.53485863, -0.90453403, -1.30337528,  0.84458059,\n",
              "        -0.96317747],\n",
              "       [ 0.1004605 ,  0.51944612, -0.90453403, -0.42892629,  0.84458059,\n",
              "        -0.96317747],\n",
              "       [ 1.03497673,  1.4307943 ,  1.1055416 ,  1.51936376, -0.90282753,\n",
              "        -0.96317747],\n",
              "       [-1.45706657, -0.85651093, -0.90453403, -1.11227969,  0.84458059,\n",
              "        -0.96317747],\n",
              "       [ 1.5333854 , -1.66064167, -0.90453403,  0.59375315, -0.90282753,\n",
              "         1.03823026],\n",
              "       [ 1.40878323, -0.83864135, -0.90453403, -0.71709069,  0.26211122,\n",
              "        -0.96317747],\n",
              "       [ 0.66117024, -1.24964151, -0.90453403, -0.99958584,  1.42704996,\n",
              "        -0.96317747],\n",
              "       [-1.89317415,  0.03696768,  1.1055416 ,  0.0732873 , -0.90282753,\n",
              "         1.03823026],\n",
              "       [ 1.34648215, -1.01733707,  1.1055416 , -0.92381132,  1.42704996,\n",
              "        -0.96317747],\n",
              "       [ 1.47108431,  1.14488114, -0.90453403, -0.09914121, -0.90282753,\n",
              "        -0.96317747],\n",
              "       [-0.89635683,  1.37718558,  1.1055416 ,  0.12085379, -0.90282753,\n",
              "        -0.96317747],\n",
              "       [-1.89317415, -0.92798921,  1.1055416 ,  0.13979742, -0.90282753,\n",
              "        -0.96317747],\n",
              "       [-0.33564708,  1.82392488,  1.1055416 , -0.67007731,  1.42704996,\n",
              "         1.03823026],\n",
              "       [ 0.72347132,  0.85896799,  1.1055416 ,  0.40556133, -0.90282753,\n",
              "        -0.96317747],\n",
              "       [ 1.22187998, -0.62420649,  1.1055416 ,  2.59984201, -0.90282753,\n",
              "        -0.96317747],\n",
              "       [-1.08326007,  1.77031617, -0.90453403,  0.48119757, -0.90282753,\n",
              "         1.03823026],\n",
              "       [-1.45706657, -1.19603279, -0.90453403, -0.58655941,  1.42704996,\n",
              "        -0.96317747],\n",
              "       [ 0.28736374,  0.75175056, -0.90453403, -0.48285341,  1.42704996,\n",
              "         1.03823026],\n",
              "       [-1.02095899,  1.234229  , -0.90453403,  1.83283243, -0.90282753,\n",
              "         1.03823026],\n",
              "       [ 1.34648215, -0.78503264, -0.90453403, -0.04203377, -0.90282753,\n",
              "         1.03823026],\n",
              "       [-1.08326007, -1.26751108, -0.90453403, -0.42422495,  0.84458059,\n",
              "         1.03823026]])"
            ]
          },
          "metadata": {
            "tags": []
          },
          "execution_count": 32
        }
      ]
    },
    {
      "cell_type": "markdown",
      "metadata": {
        "id": "yyXkKeXMpKB3"
      },
      "source": [
        "#Training the model using KNN Algorithm"
      ]
    },
    {
      "cell_type": "code",
      "metadata": {
        "colab": {
          "base_uri": "https://localhost:8080/"
        },
        "id": "coqpPfWVkEXm",
        "outputId": "78f4a9cc-bf33-4c6c-a1f4-d89143c377a4"
      },
      "source": [
        "from sklearn.neighbors import KNeighborsClassifier\n",
        "classifier = KNeighborsClassifier(n_neighbors=5)\n",
        "classifier.fit(X_train, y_train)"
      ],
      "execution_count": 33,
      "outputs": [
        {
          "output_type": "execute_result",
          "data": {
            "text/plain": [
              "KNeighborsClassifier(algorithm='auto', leaf_size=30, metric='minkowski',\n",
              "                     metric_params=None, n_jobs=None, n_neighbors=5, p=2,\n",
              "                     weights='uniform')"
            ]
          },
          "metadata": {
            "tags": []
          },
          "execution_count": 33
        }
      ]
    },
    {
      "cell_type": "markdown",
      "metadata": {
        "id": "8QNSD0OkpFiV"
      },
      "source": [
        "#Testing the model"
      ]
    },
    {
      "cell_type": "code",
      "metadata": {
        "colab": {
          "base_uri": "https://localhost:8080/"
        },
        "id": "KgHUTr0KkJLj",
        "outputId": "d0c42e5e-5b51-4ab1-ab15-b16a682f6634"
      },
      "source": [
        "y_pred = classifier.predict(X_test)\n",
        "y_pred"
      ],
      "execution_count": 35,
      "outputs": [
        {
          "output_type": "execute_result",
          "data": {
            "text/plain": [
              "array([1., 0., 0., 0., 1., 1., 0., 0., 1., 0., 1., 0., 1., 0., 1., 1., 1.,\n",
              "       1., 0., 1., 0., 1., 0., 0., 0., 0., 0., 1., 0., 1., 1., 1., 0., 1.,\n",
              "       1., 1., 1., 0., 1., 0.])"
            ]
          },
          "metadata": {
            "tags": []
          },
          "execution_count": 35
        }
      ]
    },
    {
      "cell_type": "markdown",
      "metadata": {
        "id": "_rnyp4GXo-vZ"
      },
      "source": [
        "#Checking for accuracy"
      ]
    },
    {
      "cell_type": "code",
      "metadata": {
        "colab": {
          "base_uri": "https://localhost:8080/"
        },
        "id": "XzMx6XHCkQsK",
        "outputId": "1fe17a28-bd52-492c-8119-b34ff15889ea"
      },
      "source": [
        "from sklearn.metrics import confusion_matrix, accuracy_score\n",
        "cm = confusion_matrix(y_test, y_pred)\n",
        "print(cm)\n",
        "accuracy_score(y_test, y_pred)*100"
      ],
      "execution_count": 37,
      "outputs": [
        {
          "output_type": "stream",
          "text": [
            "[[19  0]\n",
            " [ 0 21]]\n"
          ],
          "name": "stdout"
        },
        {
          "output_type": "execute_result",
          "data": {
            "text/plain": [
              "100.0"
            ]
          },
          "metadata": {
            "tags": []
          },
          "execution_count": 37
        }
      ]
    },
    {
      "cell_type": "markdown",
      "metadata": {
        "id": "gjDAQn6Go6hx"
      },
      "source": [
        "#Prediction for new values"
      ]
    },
    {
      "cell_type": "code",
      "metadata": {
        "colab": {
          "base_uri": "https://localhost:8080/"
        },
        "id": "hRmHiMpulxSI",
        "outputId": "9115300b-833d-41b2-8d0a-64fe2c393e9b"
      },
      "source": [
        "output= classifier.predict(sc.transform([[47,127,0,10.114,3,1]]))\n",
        "output"
      ],
      "execution_count": 42,
      "outputs": [
        {
          "output_type": "execute_result",
          "data": {
            "text/plain": [
              "array([1.])"
            ]
          },
          "metadata": {
            "tags": []
          },
          "execution_count": 42
        }
      ]
    },
    {
      "cell_type": "code",
      "metadata": {
        "colab": {
          "base_uri": "https://localhost:8080/"
        },
        "id": "44j9kA9bn84C",
        "outputId": "20db034d-d1df-499d-f8f7-390f049557c1"
      },
      "source": [
        "output= classifier.predict(sc.transform([[30,222,2,6.554,5,1]]))\n",
        "output"
      ],
      "execution_count": 43,
      "outputs": [
        {
          "output_type": "execute_result",
          "data": {
            "text/plain": [
              "array([1.])"
            ]
          },
          "metadata": {
            "tags": []
          },
          "execution_count": 43
        }
      ]
    },
    {
      "cell_type": "code",
      "metadata": {
        "colab": {
          "base_uri": "https://localhost:8080/"
        },
        "id": "e4gI8-03oEfa",
        "outputId": "ae3864da-761d-463e-8827-c075290ae5d0"
      },
      "source": [
        "output= classifier.predict(sc.transform([[22,444,1,4.113,2,1]]))\n",
        "output"
      ],
      "execution_count": 44,
      "outputs": [
        {
          "output_type": "execute_result",
          "data": {
            "text/plain": [
              "array([0.])"
            ]
          },
          "metadata": {
            "tags": []
          },
          "execution_count": 44
        }
      ]
    },
    {
      "cell_type": "code",
      "metadata": {
        "id": "5rQ6BIoFrDRZ"
      },
      "source": [
        ""
      ],
      "execution_count": null,
      "outputs": []
    },
    {
      "cell_type": "code",
      "metadata": {
        "id": "FaP3WIpQrDa2"
      },
      "source": [
        ""
      ],
      "execution_count": null,
      "outputs": []
    },
    {
      "cell_type": "code",
      "metadata": {
        "id": "mzfa7GlHrEB0"
      },
      "source": [
        ""
      ],
      "execution_count": null,
      "outputs": []
    }
  ]
}