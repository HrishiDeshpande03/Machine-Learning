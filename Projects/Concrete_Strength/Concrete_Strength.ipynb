{
  "nbformat": 4,
  "nbformat_minor": 0,
  "metadata": {
    "colab": {
      "name": "Concrete_Strength.ipynb",
      "provenance": [],
      "collapsed_sections": [],
      "toc_visible": true
    },
    "kernelspec": {
      "name": "python3",
      "display_name": "Python 3"
    },
    "language_info": {
      "name": "python"
    }
  },
  "cells": [
    {
      "cell_type": "markdown",
      "metadata": {
        "id": "jLA6jPruMKHH"
      },
      "source": [
        "#Importing The Libraries"
      ]
    },
    {
      "cell_type": "code",
      "metadata": {
        "id": "5FD9bYWDG8F3"
      },
      "source": [
        "import pandas as pd\n",
        "import matplotlib.pyplot as plt\n",
        "import seaborn as sns\n",
        "import numpy as np"
      ],
      "execution_count": null,
      "outputs": []
    },
    {
      "cell_type": "markdown",
      "metadata": {
        "id": "qivNxD6yMfHB"
      },
      "source": [
        "#Reading the dataset"
      ]
    },
    {
      "cell_type": "code",
      "metadata": {
        "colab": {
          "base_uri": "https://localhost:8080/",
          "height": 203
        },
        "id": "JULyWEpBMgxO",
        "outputId": "33d239ff-dfa3-487d-be9d-6d7765489163"
      },
      "source": [
        "data = pd.read_csv(\"/concrete_data.csv\")\n",
        "data.head()"
      ],
      "execution_count": null,
      "outputs": [
        {
          "output_type": "execute_result",
          "data": {
            "text/html": [
              "<div>\n",
              "<style scoped>\n",
              "    .dataframe tbody tr th:only-of-type {\n",
              "        vertical-align: middle;\n",
              "    }\n",
              "\n",
              "    .dataframe tbody tr th {\n",
              "        vertical-align: top;\n",
              "    }\n",
              "\n",
              "    .dataframe thead th {\n",
              "        text-align: right;\n",
              "    }\n",
              "</style>\n",
              "<table border=\"1\" class=\"dataframe\">\n",
              "  <thead>\n",
              "    <tr style=\"text-align: right;\">\n",
              "      <th></th>\n",
              "      <th>Cement</th>\n",
              "      <th>Blast Furnace Slag</th>\n",
              "      <th>Fly Ash</th>\n",
              "      <th>Water</th>\n",
              "      <th>Superplasticizer</th>\n",
              "      <th>Coarse Aggregate</th>\n",
              "      <th>Fine Aggregate</th>\n",
              "      <th>Age</th>\n",
              "      <th>Strength</th>\n",
              "    </tr>\n",
              "  </thead>\n",
              "  <tbody>\n",
              "    <tr>\n",
              "      <th>0</th>\n",
              "      <td>540.0</td>\n",
              "      <td>0.0</td>\n",
              "      <td>0.0</td>\n",
              "      <td>162.0</td>\n",
              "      <td>2.5</td>\n",
              "      <td>1040.0</td>\n",
              "      <td>676.0</td>\n",
              "      <td>28</td>\n",
              "      <td>79.99</td>\n",
              "    </tr>\n",
              "    <tr>\n",
              "      <th>1</th>\n",
              "      <td>540.0</td>\n",
              "      <td>0.0</td>\n",
              "      <td>0.0</td>\n",
              "      <td>162.0</td>\n",
              "      <td>2.5</td>\n",
              "      <td>1055.0</td>\n",
              "      <td>676.0</td>\n",
              "      <td>28</td>\n",
              "      <td>61.89</td>\n",
              "    </tr>\n",
              "    <tr>\n",
              "      <th>2</th>\n",
              "      <td>332.5</td>\n",
              "      <td>142.5</td>\n",
              "      <td>0.0</td>\n",
              "      <td>228.0</td>\n",
              "      <td>0.0</td>\n",
              "      <td>932.0</td>\n",
              "      <td>594.0</td>\n",
              "      <td>270</td>\n",
              "      <td>40.27</td>\n",
              "    </tr>\n",
              "    <tr>\n",
              "      <th>3</th>\n",
              "      <td>332.5</td>\n",
              "      <td>142.5</td>\n",
              "      <td>0.0</td>\n",
              "      <td>228.0</td>\n",
              "      <td>0.0</td>\n",
              "      <td>932.0</td>\n",
              "      <td>594.0</td>\n",
              "      <td>365</td>\n",
              "      <td>41.05</td>\n",
              "    </tr>\n",
              "    <tr>\n",
              "      <th>4</th>\n",
              "      <td>198.6</td>\n",
              "      <td>132.4</td>\n",
              "      <td>0.0</td>\n",
              "      <td>192.0</td>\n",
              "      <td>0.0</td>\n",
              "      <td>978.4</td>\n",
              "      <td>825.5</td>\n",
              "      <td>360</td>\n",
              "      <td>44.30</td>\n",
              "    </tr>\n",
              "  </tbody>\n",
              "</table>\n",
              "</div>"
            ],
            "text/plain": [
              "   Cement  Blast Furnace Slag  Fly Ash  ...  Fine Aggregate  Age  Strength\n",
              "0   540.0                 0.0      0.0  ...           676.0   28     79.99\n",
              "1   540.0                 0.0      0.0  ...           676.0   28     61.89\n",
              "2   332.5               142.5      0.0  ...           594.0  270     40.27\n",
              "3   332.5               142.5      0.0  ...           594.0  365     41.05\n",
              "4   198.6               132.4      0.0  ...           825.5  360     44.30\n",
              "\n",
              "[5 rows x 9 columns]"
            ]
          },
          "metadata": {
            "tags": []
          },
          "execution_count": 2
        }
      ]
    },
    {
      "cell_type": "code",
      "metadata": {
        "colab": {
          "base_uri": "https://localhost:8080/",
          "height": 203
        },
        "id": "fA_8P1_mMzWx",
        "outputId": "16cb1935-0b89-42c7-a98d-89dd44d31e58"
      },
      "source": [
        "data.tail()"
      ],
      "execution_count": null,
      "outputs": [
        {
          "output_type": "execute_result",
          "data": {
            "text/html": [
              "<div>\n",
              "<style scoped>\n",
              "    .dataframe tbody tr th:only-of-type {\n",
              "        vertical-align: middle;\n",
              "    }\n",
              "\n",
              "    .dataframe tbody tr th {\n",
              "        vertical-align: top;\n",
              "    }\n",
              "\n",
              "    .dataframe thead th {\n",
              "        text-align: right;\n",
              "    }\n",
              "</style>\n",
              "<table border=\"1\" class=\"dataframe\">\n",
              "  <thead>\n",
              "    <tr style=\"text-align: right;\">\n",
              "      <th></th>\n",
              "      <th>Cement</th>\n",
              "      <th>Blast Furnace Slag</th>\n",
              "      <th>Fly Ash</th>\n",
              "      <th>Water</th>\n",
              "      <th>Superplasticizer</th>\n",
              "      <th>Coarse Aggregate</th>\n",
              "      <th>Fine Aggregate</th>\n",
              "      <th>Age</th>\n",
              "      <th>Strength</th>\n",
              "    </tr>\n",
              "  </thead>\n",
              "  <tbody>\n",
              "    <tr>\n",
              "      <th>1025</th>\n",
              "      <td>276.4</td>\n",
              "      <td>116.0</td>\n",
              "      <td>90.3</td>\n",
              "      <td>179.6</td>\n",
              "      <td>8.9</td>\n",
              "      <td>870.1</td>\n",
              "      <td>768.3</td>\n",
              "      <td>28</td>\n",
              "      <td>44.28</td>\n",
              "    </tr>\n",
              "    <tr>\n",
              "      <th>1026</th>\n",
              "      <td>322.2</td>\n",
              "      <td>0.0</td>\n",
              "      <td>115.6</td>\n",
              "      <td>196.0</td>\n",
              "      <td>10.4</td>\n",
              "      <td>817.9</td>\n",
              "      <td>813.4</td>\n",
              "      <td>28</td>\n",
              "      <td>31.18</td>\n",
              "    </tr>\n",
              "    <tr>\n",
              "      <th>1027</th>\n",
              "      <td>148.5</td>\n",
              "      <td>139.4</td>\n",
              "      <td>108.6</td>\n",
              "      <td>192.7</td>\n",
              "      <td>6.1</td>\n",
              "      <td>892.4</td>\n",
              "      <td>780.0</td>\n",
              "      <td>28</td>\n",
              "      <td>23.70</td>\n",
              "    </tr>\n",
              "    <tr>\n",
              "      <th>1028</th>\n",
              "      <td>159.1</td>\n",
              "      <td>186.7</td>\n",
              "      <td>0.0</td>\n",
              "      <td>175.6</td>\n",
              "      <td>11.3</td>\n",
              "      <td>989.6</td>\n",
              "      <td>788.9</td>\n",
              "      <td>28</td>\n",
              "      <td>32.77</td>\n",
              "    </tr>\n",
              "    <tr>\n",
              "      <th>1029</th>\n",
              "      <td>260.9</td>\n",
              "      <td>100.5</td>\n",
              "      <td>78.3</td>\n",
              "      <td>200.6</td>\n",
              "      <td>8.6</td>\n",
              "      <td>864.5</td>\n",
              "      <td>761.5</td>\n",
              "      <td>28</td>\n",
              "      <td>32.40</td>\n",
              "    </tr>\n",
              "  </tbody>\n",
              "</table>\n",
              "</div>"
            ],
            "text/plain": [
              "      Cement  Blast Furnace Slag  Fly Ash  ...  Fine Aggregate  Age  Strength\n",
              "1025   276.4               116.0     90.3  ...           768.3   28     44.28\n",
              "1026   322.2                 0.0    115.6  ...           813.4   28     31.18\n",
              "1027   148.5               139.4    108.6  ...           780.0   28     23.70\n",
              "1028   159.1               186.7      0.0  ...           788.9   28     32.77\n",
              "1029   260.9               100.5     78.3  ...           761.5   28     32.40\n",
              "\n",
              "[5 rows x 9 columns]"
            ]
          },
          "metadata": {
            "tags": []
          },
          "execution_count": 3
        }
      ]
    },
    {
      "cell_type": "markdown",
      "metadata": {
        "id": "DeRwAyWSNCkO"
      },
      "source": [
        ""
      ]
    },
    {
      "cell_type": "code",
      "metadata": {
        "colab": {
          "base_uri": "https://localhost:8080/",
          "height": 295
        },
        "id": "C40qoa81NVDs",
        "outputId": "7c0ada7c-73fc-49f6-fedf-b95e35a6ca28"
      },
      "source": [
        "data.describe()"
      ],
      "execution_count": null,
      "outputs": [
        {
          "output_type": "execute_result",
          "data": {
            "text/html": [
              "<div>\n",
              "<style scoped>\n",
              "    .dataframe tbody tr th:only-of-type {\n",
              "        vertical-align: middle;\n",
              "    }\n",
              "\n",
              "    .dataframe tbody tr th {\n",
              "        vertical-align: top;\n",
              "    }\n",
              "\n",
              "    .dataframe thead th {\n",
              "        text-align: right;\n",
              "    }\n",
              "</style>\n",
              "<table border=\"1\" class=\"dataframe\">\n",
              "  <thead>\n",
              "    <tr style=\"text-align: right;\">\n",
              "      <th></th>\n",
              "      <th>Cement</th>\n",
              "      <th>Blast Furnace Slag</th>\n",
              "      <th>Fly Ash</th>\n",
              "      <th>Water</th>\n",
              "      <th>Superplasticizer</th>\n",
              "      <th>Coarse Aggregate</th>\n",
              "      <th>Fine Aggregate</th>\n",
              "      <th>Age</th>\n",
              "      <th>Strength</th>\n",
              "    </tr>\n",
              "  </thead>\n",
              "  <tbody>\n",
              "    <tr>\n",
              "      <th>count</th>\n",
              "      <td>1030.000000</td>\n",
              "      <td>1030.000000</td>\n",
              "      <td>1030.000000</td>\n",
              "      <td>1030.000000</td>\n",
              "      <td>1030.000000</td>\n",
              "      <td>1030.000000</td>\n",
              "      <td>1030.000000</td>\n",
              "      <td>1030.000000</td>\n",
              "      <td>1030.000000</td>\n",
              "    </tr>\n",
              "    <tr>\n",
              "      <th>mean</th>\n",
              "      <td>281.167864</td>\n",
              "      <td>73.895825</td>\n",
              "      <td>54.188350</td>\n",
              "      <td>181.567282</td>\n",
              "      <td>6.204660</td>\n",
              "      <td>972.918932</td>\n",
              "      <td>773.580485</td>\n",
              "      <td>45.662136</td>\n",
              "      <td>35.817961</td>\n",
              "    </tr>\n",
              "    <tr>\n",
              "      <th>std</th>\n",
              "      <td>104.506364</td>\n",
              "      <td>86.279342</td>\n",
              "      <td>63.997004</td>\n",
              "      <td>21.354219</td>\n",
              "      <td>5.973841</td>\n",
              "      <td>77.753954</td>\n",
              "      <td>80.175980</td>\n",
              "      <td>63.169912</td>\n",
              "      <td>16.705742</td>\n",
              "    </tr>\n",
              "    <tr>\n",
              "      <th>min</th>\n",
              "      <td>102.000000</td>\n",
              "      <td>0.000000</td>\n",
              "      <td>0.000000</td>\n",
              "      <td>121.800000</td>\n",
              "      <td>0.000000</td>\n",
              "      <td>801.000000</td>\n",
              "      <td>594.000000</td>\n",
              "      <td>1.000000</td>\n",
              "      <td>2.330000</td>\n",
              "    </tr>\n",
              "    <tr>\n",
              "      <th>25%</th>\n",
              "      <td>192.375000</td>\n",
              "      <td>0.000000</td>\n",
              "      <td>0.000000</td>\n",
              "      <td>164.900000</td>\n",
              "      <td>0.000000</td>\n",
              "      <td>932.000000</td>\n",
              "      <td>730.950000</td>\n",
              "      <td>7.000000</td>\n",
              "      <td>23.710000</td>\n",
              "    </tr>\n",
              "    <tr>\n",
              "      <th>50%</th>\n",
              "      <td>272.900000</td>\n",
              "      <td>22.000000</td>\n",
              "      <td>0.000000</td>\n",
              "      <td>185.000000</td>\n",
              "      <td>6.400000</td>\n",
              "      <td>968.000000</td>\n",
              "      <td>779.500000</td>\n",
              "      <td>28.000000</td>\n",
              "      <td>34.445000</td>\n",
              "    </tr>\n",
              "    <tr>\n",
              "      <th>75%</th>\n",
              "      <td>350.000000</td>\n",
              "      <td>142.950000</td>\n",
              "      <td>118.300000</td>\n",
              "      <td>192.000000</td>\n",
              "      <td>10.200000</td>\n",
              "      <td>1029.400000</td>\n",
              "      <td>824.000000</td>\n",
              "      <td>56.000000</td>\n",
              "      <td>46.135000</td>\n",
              "    </tr>\n",
              "    <tr>\n",
              "      <th>max</th>\n",
              "      <td>540.000000</td>\n",
              "      <td>359.400000</td>\n",
              "      <td>200.100000</td>\n",
              "      <td>247.000000</td>\n",
              "      <td>32.200000</td>\n",
              "      <td>1145.000000</td>\n",
              "      <td>992.600000</td>\n",
              "      <td>365.000000</td>\n",
              "      <td>82.600000</td>\n",
              "    </tr>\n",
              "  </tbody>\n",
              "</table>\n",
              "</div>"
            ],
            "text/plain": [
              "            Cement  Blast Furnace Slag  ...          Age     Strength\n",
              "count  1030.000000         1030.000000  ...  1030.000000  1030.000000\n",
              "mean    281.167864           73.895825  ...    45.662136    35.817961\n",
              "std     104.506364           86.279342  ...    63.169912    16.705742\n",
              "min     102.000000            0.000000  ...     1.000000     2.330000\n",
              "25%     192.375000            0.000000  ...     7.000000    23.710000\n",
              "50%     272.900000           22.000000  ...    28.000000    34.445000\n",
              "75%     350.000000          142.950000  ...    56.000000    46.135000\n",
              "max     540.000000          359.400000  ...   365.000000    82.600000\n",
              "\n",
              "[8 rows x 9 columns]"
            ]
          },
          "metadata": {
            "tags": []
          },
          "execution_count": 5
        }
      ]
    },
    {
      "cell_type": "code",
      "metadata": {
        "colab": {
          "base_uri": "https://localhost:8080/",
          "height": 296
        },
        "id": "ayN3HL6dNcQ7",
        "outputId": "09c28c12-9ac6-4423-c558-48dc0b2ea675"
      },
      "source": [
        "#Boxplot\n",
        "\n",
        "sns.boxplot(x='Cement', y='Strength', data=data)"
      ],
      "execution_count": null,
      "outputs": [
        {
          "output_type": "execute_result",
          "data": {
            "text/plain": [
              "<matplotlib.axes._subplots.AxesSubplot at 0x7f0bf3663c10>"
            ]
          },
          "metadata": {
            "tags": []
          },
          "execution_count": 10
        },
        {
          "output_type": "display_data",
          "data": {
            "image/png": "[encoded data removed]",
            "text/plain": [
              "<Figure size 432x288 with 1 Axes>"
            ]
          },
          "metadata": {
            "tags": [],
            "needs_background": "light"
          }
        }
      ]
    },
    {
      "cell_type": "code",
      "metadata": {
        "colab": {
          "base_uri": "https://localhost:8080/",
          "height": 279
        },
        "id": "4VAJHraZOWHq",
        "outputId": "8fba76ff-d36a-4558-fe25-0b65a648f30c"
      },
      "source": [
        "#Histogram\n",
        "\n",
        "count, bin_edges = np.histogram(data['Water'])\n",
        "data['Water'].plot(kind='hist', xticks=bin_edges)\n",
        "plt.xlabel('Fly Ash')\n",
        "plt.ylabel('Strength')\n",
        "plt.grid()\n",
        "plt.show()"
      ],
      "execution_count": null,
      "outputs": [
        {
          "output_type": "display_data",
          "data": {
            "image/png": "[encoded data removed]",
            "text/plain": [
              "<Figure size 432x288 with 1 Axes>"
            ]
          },
          "metadata": {
            "tags": [],
            "needs_background": "light"
          }
        }
      ]
    },
    {
      "cell_type": "code",
      "metadata": {
        "colab": {
          "base_uri": "https://localhost:8080/",
          "height": 352
        },
        "id": "A-qLi7h0O9D3",
        "outputId": "fbc79520-a9ba-4719-b52d-d45fdd250342"
      },
      "source": [
        "#correlation_matrix\n",
        "\n",
        "correlation_matrix = data.corr()\n",
        "sns.heatmap(correlation_matrix, annot=True)\n",
        "sns.heatmap(correlation_matrix, )\n",
        "plt.show()"
      ],
      "execution_count": null,
      "outputs": [
        {
          "output_type": "display_data",
          "data": {
            "image/png": "[encoded data removed]",
            "text/plain": [
              "<Figure size 432x288 with 3 Axes>"
            ]
          },
          "metadata": {
            "tags": [],
            "needs_background": "light"
          }
        }
      ]
    },
    {
      "cell_type": "markdown",
      "metadata": {
        "id": "UpQc9tmGPfV5"
      },
      "source": [
        "#Checking for any missing values in dataset\n",
        "#Data Visualization"
      ]
    },
    {
      "cell_type": "code",
      "metadata": {
        "colab": {
          "base_uri": "https://localhost:8080/"
        },
        "id": "sr5Vh1iFPEjB",
        "outputId": "1f70c663-5ddc-436c-de91-7e93c05cd6ff"
      },
      "source": [
        "data.info()"
      ],
      "execution_count": null,
      "outputs": [
        {
          "output_type": "stream",
          "text": [
            "<class 'pandas.core.frame.DataFrame'>\n",
            "RangeIndex: 1030 entries, 0 to 1029\n",
            "Data columns (total 9 columns):\n",
            " #   Column              Non-Null Count  Dtype  \n",
            "---  ------              --------------  -----  \n",
            " 0   Cement              1030 non-null   float64\n",
            " 1   Blast Furnace Slag  1030 non-null   float64\n",
            " 2   Fly Ash             1030 non-null   float64\n",
            " 3   Water               1030 non-null   float64\n",
            " 4   Superplasticizer    1030 non-null   float64\n",
            " 5   Coarse Aggregate    1030 non-null   float64\n",
            " 6   Fine Aggregate      1030 non-null   float64\n",
            " 7   Age                 1030 non-null   int64  \n",
            " 8   Strength            1030 non-null   float64\n",
            "dtypes: float64(8), int64(1)\n",
            "memory usage: 72.5 KB\n"
          ],
          "name": "stdout"
        }
      ]
    },
    {
      "cell_type": "code",
      "metadata": {
        "colab": {
          "base_uri": "https://localhost:8080/"
        },
        "id": "nEQr35TKPn6z",
        "outputId": "015520fa-e63c-41fa-8aa8-3156ecce230f"
      },
      "source": [
        "data.isnull().sum()"
      ],
      "execution_count": null,
      "outputs": [
        {
          "output_type": "execute_result",
          "data": {
            "text/plain": [
              "Cement                0\n",
              "Blast Furnace Slag    0\n",
              "Fly Ash               0\n",
              "Water                 0\n",
              "Superplasticizer      0\n",
              "Coarse Aggregate      0\n",
              "Fine Aggregate        0\n",
              "Age                   0\n",
              "Strength              0\n",
              "dtype: int64"
            ]
          },
          "metadata": {
            "tags": []
          },
          "execution_count": 17
        }
      ]
    },
    {
      "cell_type": "markdown",
      "metadata": {
        "id": "BjLbTndyPyS9"
      },
      "source": [
        "No any missing values"
      ]
    },
    {
      "cell_type": "markdown",
      "metadata": {
        "id": "NFglY6AkQIHn"
      },
      "source": [
        "#Initiating the variables"
      ]
    },
    {
      "cell_type": "markdown",
      "metadata": {
        "id": "hCgmkZlKQC6X"
      },
      "source": [
        ""
      ]
    },
    {
      "cell_type": "code",
      "metadata": {
        "colab": {
          "base_uri": "https://localhost:8080/",
          "height": 417
        },
        "id": "GMuhJmy-QCOR",
        "outputId": "edd2989c-e026-4298-d69b-25f3b42611b5"
      },
      "source": [
        "X = data.drop(['Strength'], axis = 1)\n",
        "y = data['Strength'].values.reshape(-1,1)\n",
        "X"
      ],
      "execution_count": null,
      "outputs": [
        {
          "output_type": "execute_result",
          "data": {
            "text/html": [
              "<div>\n",
              "<style scoped>\n",
              "    .dataframe tbody tr th:only-of-type {\n",
              "        vertical-align: middle;\n",
              "    }\n",
              "\n",
              "    .dataframe tbody tr th {\n",
              "        vertical-align: top;\n",
              "    }\n",
              "\n",
              "    .dataframe thead th {\n",
              "        text-align: right;\n",
              "    }\n",
              "</style>\n",
              "<table border=\"1\" class=\"dataframe\">\n",
              "  <thead>\n",
              "    <tr style=\"text-align: right;\">\n",
              "      <th></th>\n",
              "      <th>Cement</th>\n",
              "      <th>Blast Furnace Slag</th>\n",
              "      <th>Fly Ash</th>\n",
              "      <th>Water</th>\n",
              "      <th>Superplasticizer</th>\n",
              "      <th>Coarse Aggregate</th>\n",
              "      <th>Fine Aggregate</th>\n",
              "      <th>Age</th>\n",
              "    </tr>\n",
              "  </thead>\n",
              "  <tbody>\n",
              "    <tr>\n",
              "      <th>0</th>\n",
              "      <td>540.0</td>\n",
              "      <td>0.0</td>\n",
              "      <td>0.0</td>\n",
              "      <td>162.0</td>\n",
              "      <td>2.5</td>\n",
              "      <td>1040.0</td>\n",
              "      <td>676.0</td>\n",
              "      <td>28</td>\n",
              "    </tr>\n",
              "    <tr>\n",
              "      <th>1</th>\n",
              "      <td>540.0</td>\n",
              "      <td>0.0</td>\n",
              "      <td>0.0</td>\n",
              "      <td>162.0</td>\n",
              "      <td>2.5</td>\n",
              "      <td>1055.0</td>\n",
              "      <td>676.0</td>\n",
              "      <td>28</td>\n",
              "    </tr>\n",
              "    <tr>\n",
              "      <th>2</th>\n",
              "      <td>332.5</td>\n",
              "      <td>142.5</td>\n",
              "      <td>0.0</td>\n",
              "      <td>228.0</td>\n",
              "      <td>0.0</td>\n",
              "      <td>932.0</td>\n",
              "      <td>594.0</td>\n",
              "      <td>270</td>\n",
              "    </tr>\n",
              "    <tr>\n",
              "      <th>3</th>\n",
              "      <td>332.5</td>\n",
              "      <td>142.5</td>\n",
              "      <td>0.0</td>\n",
              "      <td>228.0</td>\n",
              "      <td>0.0</td>\n",
              "      <td>932.0</td>\n",
              "      <td>594.0</td>\n",
              "      <td>365</td>\n",
              "    </tr>\n",
              "    <tr>\n",
              "      <th>4</th>\n",
              "      <td>198.6</td>\n",
              "      <td>132.4</td>\n",
              "      <td>0.0</td>\n",
              "      <td>192.0</td>\n",
              "      <td>0.0</td>\n",
              "      <td>978.4</td>\n",
              "      <td>825.5</td>\n",
              "      <td>360</td>\n",
              "    </tr>\n",
              "    <tr>\n",
              "      <th>...</th>\n",
              "      <td>...</td>\n",
              "      <td>...</td>\n",
              "      <td>...</td>\n",
              "      <td>...</td>\n",
              "      <td>...</td>\n",
              "      <td>...</td>\n",
              "      <td>...</td>\n",
              "      <td>...</td>\n",
              "    </tr>\n",
              "    <tr>\n",
              "      <th>1025</th>\n",
              "      <td>276.4</td>\n",
              "      <td>116.0</td>\n",
              "      <td>90.3</td>\n",
              "      <td>179.6</td>\n",
              "      <td>8.9</td>\n",
              "      <td>870.1</td>\n",
              "      <td>768.3</td>\n",
              "      <td>28</td>\n",
              "    </tr>\n",
              "    <tr>\n",
              "      <th>1026</th>\n",
              "      <td>322.2</td>\n",
              "      <td>0.0</td>\n",
              "      <td>115.6</td>\n",
              "      <td>196.0</td>\n",
              "      <td>10.4</td>\n",
              "      <td>817.9</td>\n",
              "      <td>813.4</td>\n",
              "      <td>28</td>\n",
              "    </tr>\n",
              "    <tr>\n",
              "      <th>1027</th>\n",
              "      <td>148.5</td>\n",
              "      <td>139.4</td>\n",
              "      <td>108.6</td>\n",
              "      <td>192.7</td>\n",
              "      <td>6.1</td>\n",
              "      <td>892.4</td>\n",
              "      <td>780.0</td>\n",
              "      <td>28</td>\n",
              "    </tr>\n",
              "    <tr>\n",
              "      <th>1028</th>\n",
              "      <td>159.1</td>\n",
              "      <td>186.7</td>\n",
              "      <td>0.0</td>\n",
              "      <td>175.6</td>\n",
              "      <td>11.3</td>\n",
              "      <td>989.6</td>\n",
              "      <td>788.9</td>\n",
              "      <td>28</td>\n",
              "    </tr>\n",
              "    <tr>\n",
              "      <th>1029</th>\n",
              "      <td>260.9</td>\n",
              "      <td>100.5</td>\n",
              "      <td>78.3</td>\n",
              "      <td>200.6</td>\n",
              "      <td>8.6</td>\n",
              "      <td>864.5</td>\n",
              "      <td>761.5</td>\n",
              "      <td>28</td>\n",
              "    </tr>\n",
              "  </tbody>\n",
              "</table>\n",
              "<p>1030 rows × 8 columns</p>\n",
              "</div>"
            ],
            "text/plain": [
              "      Cement  Blast Furnace Slag  ...  Fine Aggregate  Age\n",
              "0      540.0                 0.0  ...           676.0   28\n",
              "1      540.0                 0.0  ...           676.0   28\n",
              "2      332.5               142.5  ...           594.0  270\n",
              "3      332.5               142.5  ...           594.0  365\n",
              "4      198.6               132.4  ...           825.5  360\n",
              "...      ...                 ...  ...             ...  ...\n",
              "1025   276.4               116.0  ...           768.3   28\n",
              "1026   322.2                 0.0  ...           813.4   28\n",
              "1027   148.5               139.4  ...           780.0   28\n",
              "1028   159.1               186.7  ...           788.9   28\n",
              "1029   260.9               100.5  ...           761.5   28\n",
              "\n",
              "[1030 rows x 8 columns]"
            ]
          },
          "metadata": {
            "tags": []
          },
          "execution_count": 19
        }
      ]
    },
    {
      "cell_type": "code",
      "metadata": {
        "colab": {
          "base_uri": "https://localhost:8080/"
        },
        "id": "k_GqAg6WQY6h",
        "outputId": "51dbced0-5109-4a4e-8275-fcc94b29c246"
      },
      "source": [
        "print(y)"
      ],
      "execution_count": null,
      "outputs": [
        {
          "output_type": "stream",
          "text": [
            "[[79.99]\n",
            " [61.89]\n",
            " [40.27]\n",
            " ...\n",
            " [23.7 ]\n",
            " [32.77]\n",
            " [32.4 ]]\n"
          ],
          "name": "stdout"
        }
      ]
    },
    {
      "cell_type": "markdown",
      "metadata": {
        "id": "5zmW8VYYQgLj"
      },
      "source": [
        "#Splitting the data into training and testing dataset"
      ]
    },
    {
      "cell_type": "code",
      "metadata": {
        "id": "9e9PS5IXQhPg"
      },
      "source": [
        "from sklearn.model_selection import train_test_split\n",
        "X_train, X_test, y_train, y_test = train_test_split(X, y, test_size=0.25, random_state=42)"
      ],
      "execution_count": null,
      "outputs": []
    },
    {
      "cell_type": "markdown",
      "metadata": {
        "id": "C7JMiej8QpOn"
      },
      "source": [
        "#Fitting Multiple Linear Regression to training set"
      ]
    },
    {
      "cell_type": "code",
      "metadata": {
        "colab": {
          "base_uri": "https://localhost:8080/"
        },
        "id": "3fTIpxOJQrCU",
        "outputId": "28c534a0-5b51-4e87-e24a-c426ee5175f0"
      },
      "source": [
        "from sklearn.linear_model import LinearRegression\n",
        "multiple_reg = LinearRegression()\n",
        "multiple_reg.fit(X_train, y_train)"
      ],
      "execution_count": null,
      "outputs": [
        {
          "output_type": "execute_result",
          "data": {
            "text/plain": [
              "LinearRegression(copy_X=True, fit_intercept=True, n_jobs=None, normalize=False)"
            ]
          },
          "metadata": {
            "tags": []
          },
          "execution_count": 22
        }
      ]
    },
    {
      "cell_type": "markdown",
      "metadata": {
        "id": "L8ZKOTcoQxBC"
      },
      "source": [
        "#Predicting the testing dataset result"
      ]
    },
    {
      "cell_type": "code",
      "metadata": {
        "colab": {
          "base_uri": "https://localhost:8080/"
        },
        "id": "R5nuHpsOQyYi",
        "outputId": "bd8a28d1-881c-4f80-c9fe-0910c951246e"
      },
      "source": [
        "y_pred = multiple_reg.predict(X_test)\n",
        "y_pred"
      ],
      "execution_count": null,
      "outputs": [
        {
          "output_type": "execute_result",
          "data": {
            "text/plain": [
              "array([[59.09859859],\n",
              "       [51.97626903],\n",
              "       [63.39987251],\n",
              "       [51.51583827],\n",
              "       [17.12396228],\n",
              "       [39.46825434],\n",
              "       [26.47328415],\n",
              "       [44.77707843],\n",
              "       [29.63067645],\n",
              "       [37.93010481],\n",
              "       [27.84279166],\n",
              "       [19.54919141],\n",
              "       [66.81785117],\n",
              "       [52.21871581],\n",
              "       [29.94676466],\n",
              "       [44.21751379],\n",
              "       [29.05701223],\n",
              "       [26.44812644],\n",
              "       [31.8806001 ],\n",
              "       [32.08771228],\n",
              "       [36.75906521],\n",
              "       [31.75134132],\n",
              "       [38.19736284],\n",
              "       [25.03844605],\n",
              "       [32.90412121],\n",
              "       [34.07945783],\n",
              "       [14.68126718],\n",
              "       [40.1256464 ],\n",
              "       [41.83896327],\n",
              "       [21.28573033],\n",
              "       [35.7901225 ],\n",
              "       [30.79342806],\n",
              "       [43.52433084],\n",
              "       [45.50471383],\n",
              "       [30.83600058],\n",
              "       [29.33637776],\n",
              "       [29.14495057],\n",
              "       [38.51494716],\n",
              "       [20.28393646],\n",
              "       [38.56343404],\n",
              "       [21.44355934],\n",
              "       [15.88160473],\n",
              "       [31.0992574 ],\n",
              "       [50.83828591],\n",
              "       [20.63781584],\n",
              "       [57.51048796],\n",
              "       [50.65118732],\n",
              "       [60.43076193],\n",
              "       [20.18038732],\n",
              "       [19.23597556],\n",
              "       [40.20407262],\n",
              "       [35.99947786],\n",
              "       [29.66275818],\n",
              "       [33.40748214],\n",
              "       [46.74268335],\n",
              "       [51.40978041],\n",
              "       [28.0191688 ],\n",
              "       [16.01632264],\n",
              "       [29.95463362],\n",
              "       [18.43777596],\n",
              "       [38.28982944],\n",
              "       [20.06239506],\n",
              "       [31.80326173],\n",
              "       [55.46866206],\n",
              "       [22.9228481 ],\n",
              "       [21.31872757],\n",
              "       [32.0692182 ],\n",
              "       [16.74554006],\n",
              "       [25.70845259],\n",
              "       [25.86659364],\n",
              "       [17.84136298],\n",
              "       [18.5558084 ],\n",
              "       [13.24490758],\n",
              "       [27.79361218],\n",
              "       [28.31322507],\n",
              "       [20.36040383],\n",
              "       [59.48918407],\n",
              "       [44.5763007 ],\n",
              "       [54.25611871],\n",
              "       [24.03059833],\n",
              "       [43.94422864],\n",
              "       [48.68078091],\n",
              "       [32.08468576],\n",
              "       [28.19353602],\n",
              "       [68.12766917],\n",
              "       [51.51583827],\n",
              "       [34.32657578],\n",
              "       [33.15241144],\n",
              "       [26.88576597],\n",
              "       [21.90400042],\n",
              "       [26.92640271],\n",
              "       [60.73133632],\n",
              "       [24.13660383],\n",
              "       [41.95617553],\n",
              "       [39.25599808],\n",
              "       [47.38219711],\n",
              "       [28.05659423],\n",
              "       [28.47193333],\n",
              "       [27.08522273],\n",
              "       [28.77614728],\n",
              "       [30.44792376],\n",
              "       [39.37763425],\n",
              "       [45.85628288],\n",
              "       [28.99251887],\n",
              "       [76.94732786],\n",
              "       [14.58624568],\n",
              "       [41.21903421],\n",
              "       [29.48096259],\n",
              "       [33.55120961],\n",
              "       [49.83028869],\n",
              "       [64.66361278],\n",
              "       [39.24230717],\n",
              "       [26.91911628],\n",
              "       [34.1838721 ],\n",
              "       [46.90017783],\n",
              "       [55.687012  ],\n",
              "       [22.36673096],\n",
              "       [40.61179234],\n",
              "       [42.67863961],\n",
              "       [39.28241845],\n",
              "       [34.34180373],\n",
              "       [23.25927658],\n",
              "       [37.61285772],\n",
              "       [28.00700775],\n",
              "       [25.49486674],\n",
              "       [31.72028893],\n",
              "       [48.54192393],\n",
              "       [54.98670093],\n",
              "       [36.09690605],\n",
              "       [31.99566875],\n",
              "       [15.90222291],\n",
              "       [34.4077842 ],\n",
              "       [14.80883001],\n",
              "       [60.16488512],\n",
              "       [14.6128627 ],\n",
              "       [57.19243865],\n",
              "       [26.300809  ],\n",
              "       [33.29516857],\n",
              "       [32.3761724 ],\n",
              "       [33.46114948],\n",
              "       [29.22487563],\n",
              "       [32.86206925],\n",
              "       [28.68058007],\n",
              "       [26.65201491],\n",
              "       [46.64182393],\n",
              "       [36.5532213 ],\n",
              "       [27.79935504],\n",
              "       [18.69447764],\n",
              "       [19.82350571],\n",
              "       [19.80866329],\n",
              "       [36.01929186],\n",
              "       [25.1139006 ],\n",
              "       [47.50880846],\n",
              "       [27.61336797],\n",
              "       [38.25604209],\n",
              "       [33.96567437],\n",
              "       [27.61475837],\n",
              "       [67.64980041],\n",
              "       [51.97626903],\n",
              "       [40.13112602],\n",
              "       [21.54531916],\n",
              "       [58.44134821],\n",
              "       [33.36283987],\n",
              "       [49.33512452],\n",
              "       [54.52627017],\n",
              "       [52.54045462],\n",
              "       [37.44951822],\n",
              "       [25.66387898],\n",
              "       [50.04673521],\n",
              "       [33.61163254],\n",
              "       [36.30651396],\n",
              "       [25.69639372],\n",
              "       [23.43834014],\n",
              "       [34.19899734],\n",
              "       [39.38102087],\n",
              "       [20.52067401],\n",
              "       [23.31944842],\n",
              "       [39.51156236],\n",
              "       [40.35395128],\n",
              "       [41.6597914 ],\n",
              "       [35.70977451],\n",
              "       [26.2572127 ],\n",
              "       [49.72483738],\n",
              "       [42.28036127],\n",
              "       [37.21696018],\n",
              "       [48.55395356],\n",
              "       [21.50281227],\n",
              "       [31.39251269],\n",
              "       [46.65725394],\n",
              "       [21.28244787],\n",
              "       [47.0483777 ],\n",
              "       [37.51262928],\n",
              "       [35.88190358],\n",
              "       [47.74147428],\n",
              "       [54.91389123],\n",
              "       [31.3197729 ],\n",
              "       [40.43997549],\n",
              "       [25.23181983],\n",
              "       [22.39790058],\n",
              "       [21.96645289],\n",
              "       [38.22573415],\n",
              "       [55.687012  ],\n",
              "       [17.49055494],\n",
              "       [49.02457873],\n",
              "       [53.38175107],\n",
              "       [31.30009933],\n",
              "       [34.1045647 ],\n",
              "       [48.88259533],\n",
              "       [33.42882172],\n",
              "       [31.93212094],\n",
              "       [27.0905962 ],\n",
              "       [26.91573935],\n",
              "       [25.07658529],\n",
              "       [35.47135959],\n",
              "       [30.05952485],\n",
              "       [12.88480229],\n",
              "       [19.26601094],\n",
              "       [30.49840194],\n",
              "       [23.17248479],\n",
              "       [54.39353052],\n",
              "       [48.55824528],\n",
              "       [50.43181437],\n",
              "       [49.31743931],\n",
              "       [17.04326349],\n",
              "       [40.09387719],\n",
              "       [37.12023271],\n",
              "       [31.64727865],\n",
              "       [23.32079448],\n",
              "       [25.98264227],\n",
              "       [30.63032292],\n",
              "       [22.09282847],\n",
              "       [27.9995695 ],\n",
              "       [31.15366868],\n",
              "       [36.08142838],\n",
              "       [36.11580519],\n",
              "       [39.13583935],\n",
              "       [48.22035015],\n",
              "       [28.38381183],\n",
              "       [34.78128762],\n",
              "       [25.61958138],\n",
              "       [27.40734813],\n",
              "       [37.51124279],\n",
              "       [70.05740587],\n",
              "       [20.42362276],\n",
              "       [65.13770799],\n",
              "       [35.03041566],\n",
              "       [58.69362466],\n",
              "       [16.34306056],\n",
              "       [48.94453904],\n",
              "       [60.62697772],\n",
              "       [32.61069385],\n",
              "       [34.38984241],\n",
              "       [35.96331224],\n",
              "       [26.73161831],\n",
              "       [33.98249411],\n",
              "       [26.26725833],\n",
              "       [28.8628011 ],\n",
              "       [31.10480187]])"
            ]
          },
          "metadata": {
            "tags": []
          },
          "execution_count": 23
        }
      ]
    },
    {
      "cell_type": "markdown",
      "metadata": {
        "id": "fxJtmh-4Q4_7"
      },
      "source": [
        "#Calculating the coefficients"
      ]
    },
    {
      "cell_type": "code",
      "metadata": {
        "colab": {
          "base_uri": "https://localhost:8080/"
        },
        "id": "wVznh0c-Q54O",
        "outputId": "9fe4c44a-7514-4785-fa9d-e2994eeb7bde"
      },
      "source": [
        "multiple_reg.coef_"
      ],
      "execution_count": null,
      "outputs": [
        {
          "output_type": "execute_result",
          "data": {
            "text/plain": [
              "array([[ 0.12178485,  0.11150628,  0.08538193, -0.11409973,  0.33785777,\n",
              "         0.02382886,  0.02957304,  0.11510769]])"
            ]
          },
          "metadata": {
            "tags": []
          },
          "execution_count": 24
        }
      ]
    },
    {
      "cell_type": "markdown",
      "metadata": {
        "id": "SxyOpo4AQ-T7"
      },
      "source": [
        "#Calculating the Intercept"
      ]
    },
    {
      "cell_type": "code",
      "metadata": {
        "colab": {
          "base_uri": "https://localhost:8080/"
        },
        "id": "MonuoMrXRDoD",
        "outputId": "8baf592c-fd44-48de-bf2c-3bd80506e910"
      },
      "source": [
        "multiple_reg.intercept_"
      ],
      "execution_count": null,
      "outputs": [
        {
          "output_type": "execute_result",
          "data": {
            "text/plain": [
              "array([-44.02988699])"
            ]
          },
          "metadata": {
            "tags": []
          },
          "execution_count": 25
        }
      ]
    },
    {
      "cell_type": "markdown",
      "metadata": {
        "id": "yN4yEry7RJyr"
      },
      "source": [
        "#Calculating R-squared value to get Accuracy"
      ]
    },
    {
      "cell_type": "code",
      "metadata": {
        "colab": {
          "base_uri": "https://localhost:8080/"
        },
        "id": "Q96UqD3cRMu9",
        "outputId": "66c913ca-14b6-48c4-ce3d-d1eff8f9aa7e"
      },
      "source": [
        "from sklearn.metrics import r2_score\n",
        "r2_score(y_test , y_pred)*100            # into 100 because to get accuracy in percentage"
      ],
      "execution_count": null,
      "outputs": [
        {
          "output_type": "execute_result",
          "data": {
            "text/plain": [
              "62.49829353885574"
            ]
          },
          "metadata": {
            "tags": []
          },
          "execution_count": 26
        }
      ]
    },
    {
      "cell_type": "markdown",
      "metadata": {
        "id": "dt8GFh7pRST9"
      },
      "source": [
        "#Prediction for new values"
      ]
    },
    {
      "cell_type": "code",
      "metadata": {
        "colab": {
          "base_uri": "https://localhost:8080/"
        },
        "id": "G20TFji-RTX5",
        "outputId": "e270afef-3ddf-45d3-f7e7-7998c4daba10"
      },
      "source": [
        "output = multiple_reg.predict([[600.0, 200, 44, 231.6, 3.5, 1000.6, 800.2, 80]])\n",
        "output"
      ],
      "execution_count": null,
      "outputs": [
        {
          "output_type": "execute_result",
          "data": {
            "text/plain": [
              "array([[86.57220284]])"
            ]
          },
          "metadata": {
            "tags": []
          },
          "execution_count": 30
        }
      ]
    },
    {
      "cell_type": "code",
      "metadata": {
        "colab": {
          "base_uri": "https://localhost:8080/"
        },
        "id": "9xNSPYPGSO6J",
        "outputId": "6a1737b1-6299-43a0-cffd-7907da351bc3"
      },
      "source": [
        "output = multiple_reg.predict([[900.8, 600, 84, 934.6, 5.65, 3400.6, 565.2, 120]])\n",
        "output"
      ],
      "execution_count": null,
      "outputs": [
        {
          "output_type": "execute_result",
          "data": {
            "text/plain": [
              "array([[146.58106921]])"
            ]
          },
          "metadata": {
            "tags": []
          },
          "execution_count": 31
        }
      ]
    },
    {
      "cell_type": "code",
      "metadata": {
        "colab": {
          "base_uri": "https://localhost:8080/"
        },
        "id": "Qf2RZJH7YHd1",
        "outputId": "3916dd9d-94ef-4101-a797-43cdadb82fcc"
      },
      "source": [
        "output = multiple_reg.predict([[9660.8, 7800, 44, 764.6, 2.65, 8100.6, 956.2, 65]])\n",
        "output"
      ],
      "execution_count": null,
      "outputs": [
        {
          "output_type": "execute_result",
          "data": {
            "text/plain": [
              "array([[2148.45742798]])"
            ]
          },
          "metadata": {
            "tags": []
          },
          "execution_count": 41
        }
      ]
    }
  ]
}